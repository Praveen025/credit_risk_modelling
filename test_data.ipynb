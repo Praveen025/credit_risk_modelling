{
  "cells": [
    {
      "metadata": {
        "trusted": true
      },
      "cell_type": "code",
      "source": "import math\nimport numpy as np\nimport pandas as pd\nimport matplotlib.pyplot as plt\nimport seaborn as sns\nimport re\n%matplotlib inline",
      "execution_count": 2,
      "outputs": []
    },
    {
      "metadata": {
        "trusted": true
      },
      "cell_type": "code",
      "source": "test=pd.read_csv(\"test.csv\")",
      "execution_count": 3,
      "outputs": []
    },
    {
      "metadata": {
        "trusted": true
      },
      "cell_type": "code",
      "source": "test.head()",
      "execution_count": 4,
      "outputs": [
        {
          "output_type": "execute_result",
          "execution_count": 4,
          "data": {
            "text/html": "<div>\n<style scoped>\n    .dataframe tbody tr th:only-of-type {\n        vertical-align: middle;\n    }\n\n    .dataframe tbody tr th {\n        vertical-align: top;\n    }\n\n    .dataframe thead th {\n        text-align: right;\n    }\n</style>\n<table border=\"1\" class=\"dataframe\">\n  <thead>\n    <tr style=\"text-align: right;\">\n      <th></th>\n      <th>Loan ID</th>\n      <th>Customer ID</th>\n      <th>Loan Status</th>\n      <th>Current Loan Amount</th>\n      <th>Term</th>\n      <th>Credit Score</th>\n      <th>Years in current job</th>\n      <th>Home Ownership</th>\n      <th>Annual Income</th>\n      <th>Purpose</th>\n      <th>Monthly Debt</th>\n      <th>Years of Credit History</th>\n      <th>Months since last delinquent</th>\n      <th>Number of Open Accounts</th>\n      <th>Number of Credit Problems</th>\n      <th>Current Credit Balance</th>\n      <th>Maximum Open Credit</th>\n      <th>Bankruptcies</th>\n      <th>Tax Liens</th>\n    </tr>\n  </thead>\n  <tbody>\n    <tr>\n      <th>0</th>\n      <td>0c49cbd6-dd97-4b99-9c05-c63a5d592fde</td>\n      <td>923ee454-6911-4f5a-9dfd-ba6b00b92718</td>\n      <td>Fully Paid</td>\n      <td>99999999</td>\n      <td>Short Term</td>\n      <td>728.0</td>\n      <td>1 year</td>\n      <td>Home Mortgage</td>\n      <td>76133.0</td>\n      <td>Debt Consolidation</td>\n      <td>1161.02</td>\n      <td>15.2</td>\n      <td>NaN</td>\n      <td>16</td>\n      <td>1</td>\n      <td>9880</td>\n      <td>14424</td>\n      <td>1.0</td>\n      <td>0.0</td>\n    </tr>\n    <tr>\n      <th>1</th>\n      <td>8be00956-6b7f-4b74-8398-87c8035605df</td>\n      <td>da041fa4-e423-4eb3-9d81-9ee1fd52f750</td>\n      <td>Fully Paid</td>\n      <td>34202</td>\n      <td>Short Term</td>\n      <td>724.0</td>\n      <td>10+ years</td>\n      <td>Home Mortgage</td>\n      <td>107492.0</td>\n      <td>Debt Consolidation</td>\n      <td>2902.28</td>\n      <td>17.2</td>\n      <td>71.0</td>\n      <td>17</td>\n      <td>0</td>\n      <td>26461</td>\n      <td>42135</td>\n      <td>0.0</td>\n      <td>0.0</td>\n    </tr>\n    <tr>\n      <th>2</th>\n      <td>57359000-1074-44fa-833b-4bea7a0a9d26</td>\n      <td>f9041857-4e0a-449c-af67-b2fbbd11950b</td>\n      <td>Fully Paid</td>\n      <td>17991</td>\n      <td>Short Term</td>\n      <td>743.0</td>\n      <td>10+ years</td>\n      <td>Own Home</td>\n      <td>69965.0</td>\n      <td>Debt Consolidation</td>\n      <td>1055.3</td>\n      <td>36.0</td>\n      <td>12.0</td>\n      <td>26</td>\n      <td>0</td>\n      <td>11713</td>\n      <td>61005</td>\n      <td>0.0</td>\n      <td>0.0</td>\n    </tr>\n    <tr>\n      <th>3</th>\n      <td>90a7d1b4-3997-414b-9abb-1de8cec79b18</td>\n      <td>304143c6-d619-48f3-9807-61371b47a230</td>\n      <td>Charged Off</td>\n      <td>31722</td>\n      <td>Long Term</td>\n      <td>686.0</td>\n      <td>2 years</td>\n      <td>Rent</td>\n      <td>72365.0</td>\n      <td>major_purchase</td>\n      <td>844.26</td>\n      <td>11.2</td>\n      <td>41.0</td>\n      <td>5</td>\n      <td>0</td>\n      <td>16151</td>\n      <td>19227</td>\n      <td>0.0</td>\n      <td>0.0</td>\n    </tr>\n    <tr>\n      <th>4</th>\n      <td>c2f24b30-bec3-4944-a417-c8d7b377810e</td>\n      <td>de2c8c55-468c-4b4b-b73f-7907eeb8e096</td>\n      <td>Fully Paid</td>\n      <td>13650</td>\n      <td>Long Term</td>\n      <td>719.0</td>\n      <td>7 years</td>\n      <td>Home Mortgage</td>\n      <td>78956.0</td>\n      <td>Debt Consolidation</td>\n      <td>520.45</td>\n      <td>20.4</td>\n      <td>35.0</td>\n      <td>9</td>\n      <td>0</td>\n      <td>17029</td>\n      <td>23784</td>\n      <td>0.0</td>\n      <td>0.0</td>\n    </tr>\n  </tbody>\n</table>\n</div>",
            "text/plain": "                                Loan ID                           Customer ID  \\\n0  0c49cbd6-dd97-4b99-9c05-c63a5d592fde  923ee454-6911-4f5a-9dfd-ba6b00b92718   \n1  8be00956-6b7f-4b74-8398-87c8035605df  da041fa4-e423-4eb3-9d81-9ee1fd52f750   \n2  57359000-1074-44fa-833b-4bea7a0a9d26  f9041857-4e0a-449c-af67-b2fbbd11950b   \n3  90a7d1b4-3997-414b-9abb-1de8cec79b18  304143c6-d619-48f3-9807-61371b47a230   \n4  c2f24b30-bec3-4944-a417-c8d7b377810e  de2c8c55-468c-4b4b-b73f-7907eeb8e096   \n\n   Loan Status  Current Loan Amount        Term  Credit Score  \\\n0   Fully Paid             99999999  Short Term         728.0   \n1   Fully Paid                34202  Short Term         724.0   \n2   Fully Paid                17991  Short Term         743.0   \n3  Charged Off                31722   Long Term         686.0   \n4   Fully Paid                13650   Long Term         719.0   \n\n  Years in current job Home Ownership  Annual Income             Purpose  \\\n0               1 year  Home Mortgage        76133.0  Debt Consolidation   \n1            10+ years  Home Mortgage       107492.0  Debt Consolidation   \n2            10+ years       Own Home        69965.0  Debt Consolidation   \n3              2 years           Rent        72365.0      major_purchase   \n4              7 years  Home Mortgage        78956.0  Debt Consolidation   \n\n  Monthly Debt  Years of Credit History  Months since last delinquent  \\\n0      1161.02                     15.2                           NaN   \n1      2902.28                     17.2                          71.0   \n2       1055.3                     36.0                          12.0   \n3       844.26                     11.2                          41.0   \n4       520.45                     20.4                          35.0   \n\n   Number of Open Accounts  Number of Credit Problems  Current Credit Balance  \\\n0                       16                          1                    9880   \n1                       17                          0                   26461   \n2                       26                          0                   11713   \n3                        5                          0                   16151   \n4                        9                          0                   17029   \n\n  Maximum Open Credit  Bankruptcies  Tax Liens  \n0               14424           1.0        0.0  \n1               42135           0.0        0.0  \n2               61005           0.0        0.0  \n3               19227           0.0        0.0  \n4               23784           0.0        0.0  "
          },
          "metadata": {}
        }
      ]
    },
    {
      "metadata": {
        "trusted": true
      },
      "cell_type": "code",
      "source": "test.describe()",
      "execution_count": 5,
      "outputs": [
        {
          "output_type": "execute_result",
          "execution_count": 5,
          "data": {
            "text/html": "<div>\n<style scoped>\n    .dataframe tbody tr th:only-of-type {\n        vertical-align: middle;\n    }\n\n    .dataframe tbody tr th {\n        vertical-align: top;\n    }\n\n    .dataframe thead th {\n        text-align: right;\n    }\n</style>\n<table border=\"1\" class=\"dataframe\">\n  <thead>\n    <tr style=\"text-align: right;\">\n      <th></th>\n      <th>Current Loan Amount</th>\n      <th>Credit Score</th>\n      <th>Annual Income</th>\n      <th>Years of Credit History</th>\n      <th>Months since last delinquent</th>\n      <th>Number of Open Accounts</th>\n      <th>Number of Credit Problems</th>\n      <th>Current Credit Balance</th>\n      <th>Bankruptcies</th>\n      <th>Tax Liens</th>\n    </tr>\n  </thead>\n  <tbody>\n    <tr>\n      <th>count</th>\n      <td>2.667300e+04</td>\n      <td>21824.000000</td>\n      <td>2.182400e+04</td>\n      <td>26673.000000</td>\n      <td>12201.000000</td>\n      <td>26673.000000</td>\n      <td>26673.000000</td>\n      <td>26673.000000</td>\n      <td>26606.000000</td>\n      <td>26669.000000</td>\n    </tr>\n    <tr>\n      <th>mean</th>\n      <td>9.216777e+06</td>\n      <td>1177.261639</td>\n      <td>7.225179e+04</td>\n      <td>18.313534</td>\n      <td>35.114253</td>\n      <td>11.122333</td>\n      <td>0.157875</td>\n      <td>15332.593522</td>\n      <td>0.110501</td>\n      <td>0.028460</td>\n    </tr>\n    <tr>\n      <th>std</th>\n      <td>2.890483e+07</td>\n      <td>1646.617843</td>\n      <td>4.936155e+04</td>\n      <td>7.015942</td>\n      <td>22.182475</td>\n      <td>4.960582</td>\n      <td>0.477217</td>\n      <td>18136.024714</td>\n      <td>0.338204</td>\n      <td>0.276945</td>\n    </tr>\n    <tr>\n      <th>min</th>\n      <td>4.910000e+02</td>\n      <td>585.000000</td>\n      <td>4.033000e+03</td>\n      <td>4.000000</td>\n      <td>0.000000</td>\n      <td>1.000000</td>\n      <td>0.000000</td>\n      <td>0.000000</td>\n      <td>0.000000</td>\n      <td>0.000000</td>\n    </tr>\n    <tr>\n      <th>25%</th>\n      <td>8.086000e+03</td>\n      <td>711.000000</td>\n      <td>4.451900e+04</td>\n      <td>13.500000</td>\n      <td>16.000000</td>\n      <td>8.000000</td>\n      <td>0.000000</td>\n      <td>5991.000000</td>\n      <td>0.000000</td>\n      <td>0.000000</td>\n    </tr>\n    <tr>\n      <th>50%</th>\n      <td>1.330700e+04</td>\n      <td>731.000000</td>\n      <td>6.144100e+04</td>\n      <td>17.000000</td>\n      <td>32.000000</td>\n      <td>10.000000</td>\n      <td>0.000000</td>\n      <td>11090.000000</td>\n      <td>0.000000</td>\n      <td>0.000000</td>\n    </tr>\n    <tr>\n      <th>75%</th>\n      <td>2.158400e+04</td>\n      <td>743.000000</td>\n      <td>8.646950e+04</td>\n      <td>21.800000</td>\n      <td>51.000000</td>\n      <td>14.000000</td>\n      <td>0.000000</td>\n      <td>19157.000000</td>\n      <td>0.000000</td>\n      <td>0.000000</td>\n    </tr>\n    <tr>\n      <th>max</th>\n      <td>1.000000e+08</td>\n      <td>7510.000000</td>\n      <td>1.478700e+06</td>\n      <td>70.500000</td>\n      <td>143.000000</td>\n      <td>56.000000</td>\n      <td>15.000000</td>\n      <td>683524.000000</td>\n      <td>5.000000</td>\n      <td>15.000000</td>\n    </tr>\n  </tbody>\n</table>\n</div>",
            "text/plain": "       Current Loan Amount  Credit Score  Annual Income  \\\ncount         2.667300e+04  21824.000000   2.182400e+04   \nmean          9.216777e+06   1177.261639   7.225179e+04   \nstd           2.890483e+07   1646.617843   4.936155e+04   \nmin           4.910000e+02    585.000000   4.033000e+03   \n25%           8.086000e+03    711.000000   4.451900e+04   \n50%           1.330700e+04    731.000000   6.144100e+04   \n75%           2.158400e+04    743.000000   8.646950e+04   \nmax           1.000000e+08   7510.000000   1.478700e+06   \n\n       Years of Credit History  Months since last delinquent  \\\ncount             26673.000000                  12201.000000   \nmean                 18.313534                     35.114253   \nstd                   7.015942                     22.182475   \nmin                   4.000000                      0.000000   \n25%                  13.500000                     16.000000   \n50%                  17.000000                     32.000000   \n75%                  21.800000                     51.000000   \nmax                  70.500000                    143.000000   \n\n       Number of Open Accounts  Number of Credit Problems  \\\ncount             26673.000000               26673.000000   \nmean                 11.122333                   0.157875   \nstd                   4.960582                   0.477217   \nmin                   1.000000                   0.000000   \n25%                   8.000000                   0.000000   \n50%                  10.000000                   0.000000   \n75%                  14.000000                   0.000000   \nmax                  56.000000                  15.000000   \n\n       Current Credit Balance  Bankruptcies     Tax Liens  \ncount            26673.000000  26606.000000  26669.000000  \nmean             15332.593522      0.110501      0.028460  \nstd              18136.024714      0.338204      0.276945  \nmin                  0.000000      0.000000      0.000000  \n25%               5991.000000      0.000000      0.000000  \n50%              11090.000000      0.000000      0.000000  \n75%              19157.000000      0.000000      0.000000  \nmax             683524.000000      5.000000     15.000000  "
          },
          "metadata": {}
        }
      ]
    },
    {
      "metadata": {
        "trusted": true
      },
      "cell_type": "code",
      "source": "# 1. column names are separated by spaces make it single column\ntest.columns = test.columns.str.replace(\" \",\"_\")",
      "execution_count": 6,
      "outputs": []
    },
    {
      "metadata": {
        "trusted": true
      },
      "cell_type": "code",
      "source": "test.columns=test.columns.str.lower()",
      "execution_count": 7,
      "outputs": []
    },
    {
      "metadata": {
        "trusted": true
      },
      "cell_type": "code",
      "source": "test.shape",
      "execution_count": 8,
      "outputs": [
        {
          "output_type": "execute_result",
          "execution_count": 8,
          "data": {
            "text/plain": "(26673, 19)"
          },
          "metadata": {}
        }
      ]
    },
    {
      "metadata": {
        "trusted": true
      },
      "cell_type": "code",
      "source": "print(\"total samples\",len(test.loan_id))\nunique_id = len(set(test.loan_id))\nprint(\"unique samples \",unique_id)\nduplicate_id = len(test.loan_id) - unique_id\nprint(\"duplicate ids\",duplicate_id)",
      "execution_count": 9,
      "outputs": [
        {
          "output_type": "stream",
          "text": "total samples 26673\nunique samples  26673\nduplicate ids 0\n",
          "name": "stdout"
        }
      ]
    },
    {
      "metadata": {
        "trusted": true
      },
      "cell_type": "code",
      "source": "#years in current job\ntest.years_in_current_job.unique()",
      "execution_count": 10,
      "outputs": [
        {
          "output_type": "execute_result",
          "execution_count": 10,
          "data": {
            "text/plain": "array(['1 year', '10+ years', '2 years', '7 years', nan, '< 1 year',\n       '8 years', '4 years', '3 years', '9 years', '5 years', '6 years'],\n      dtype=object)"
          },
          "metadata": {}
        }
      ]
    },
    {
      "metadata": {
        "trusted": true
      },
      "cell_type": "code",
      "source": "#remove years,+,NAN   ... /d is matching decimal digit\ntest[\"years_in_current_job\"]=[0 if str(x) ==\"< 1 year\" else x if str(x) == \"nan\" else int(re.findall(r'\\d+',str(x))[0]) for x in (test['years_in_current_job'])]\ntest[\"years_in_current_job\"].head()",
      "execution_count": 11,
      "outputs": [
        {
          "output_type": "execute_result",
          "execution_count": 11,
          "data": {
            "text/plain": "0     1.0\n1    10.0\n2    10.0\n3     2.0\n4     7.0\nName: years_in_current_job, dtype: float64"
          },
          "metadata": {}
        }
      ]
    },
    {
      "metadata": {
        "trusted": true
      },
      "cell_type": "code",
      "source": "#2. credit score\ntest[\"credit_score\"].head(10)",
      "execution_count": 12,
      "outputs": [
        {
          "output_type": "execute_result",
          "execution_count": 12,
          "data": {
            "text/plain": "0     728.0\n1     724.0\n2     743.0\n3     686.0\n4     719.0\n5     717.0\n6    7340.0\n7     731.0\n8     734.0\n9       NaN\nName: credit_score, dtype: float64"
          },
          "metadata": {}
        }
      ]
    },
    {
      "metadata": {
        "trusted": true
      },
      "cell_type": "code",
      "source": "#will write a function which brings credit score in range\ndef credit_score(x):\n    if x > 800:\n        return int(x/10)\n    elif str(x) ==\"nan\":\n        return x\n    else:\n        return int(x)",
      "execution_count": 13,
      "outputs": []
    },
    {
      "metadata": {
        "trusted": true
      },
      "cell_type": "code",
      "source": "test[\"credit_score\"]=test[\"credit_score\"].map(credit_score)\ntest[\"credit_score\"].head(10)",
      "execution_count": 14,
      "outputs": [
        {
          "output_type": "execute_result",
          "execution_count": 14,
          "data": {
            "text/plain": "0    728.0\n1    724.0\n2    743.0\n3    686.0\n4    719.0\n5    717.0\n6    734.0\n7    731.0\n8    734.0\n9      NaN\nName: credit_score, dtype: float64"
          },
          "metadata": {}
        }
      ]
    },
    {
      "metadata": {
        "trusted": true
      },
      "cell_type": "code",
      "source": "#max open credit\nprint(test.shape)\ntest[test['maximum_open_credit']=='#VALUE!']",
      "execution_count": 15,
      "outputs": [
        {
          "output_type": "stream",
          "text": "(26673, 19)\n",
          "name": "stdout"
        },
        {
          "output_type": "execute_result",
          "execution_count": 15,
          "data": {
            "text/html": "<div>\n<style scoped>\n    .dataframe tbody tr th:only-of-type {\n        vertical-align: middle;\n    }\n\n    .dataframe tbody tr th {\n        vertical-align: top;\n    }\n\n    .dataframe thead th {\n        text-align: right;\n    }\n</style>\n<table border=\"1\" class=\"dataframe\">\n  <thead>\n    <tr style=\"text-align: right;\">\n      <th></th>\n      <th>loan_id</th>\n      <th>customer_id</th>\n      <th>loan_status</th>\n      <th>current_loan_amount</th>\n      <th>term</th>\n      <th>credit_score</th>\n      <th>years_in_current_job</th>\n      <th>home_ownership</th>\n      <th>annual_income</th>\n      <th>purpose</th>\n      <th>monthly_debt</th>\n      <th>years_of_credit_history</th>\n      <th>months_since_last_delinquent</th>\n      <th>number_of_open_accounts</th>\n      <th>number_of_credit_problems</th>\n      <th>current_credit_balance</th>\n      <th>maximum_open_credit</th>\n      <th>bankruptcies</th>\n      <th>tax_liens</th>\n    </tr>\n  </thead>\n  <tbody>\n    <tr>\n      <th>11382</th>\n      <td>e42ae1f7-74b5-46d7-95ce-46a88918ba12</td>\n      <td>a679ed55-963a-4de6-8be0-4364eb601b6f</td>\n      <td>Charged Off</td>\n      <td>2052</td>\n      <td>Short Term</td>\n      <td>703.0</td>\n      <td>10.0</td>\n      <td>Rent</td>\n      <td>95105.0</td>\n      <td>Debt Consolidation</td>\n      <td>1910.02</td>\n      <td>22.4</td>\n      <td>37.0</td>\n      <td>9</td>\n      <td>0</td>\n      <td>0</td>\n      <td>#VALUE!</td>\n      <td>0.0</td>\n      <td>0.0</td>\n    </tr>\n  </tbody>\n</table>\n</div>",
            "text/plain": "                                    loan_id  \\\n11382  e42ae1f7-74b5-46d7-95ce-46a88918ba12   \n\n                                customer_id  loan_status  current_loan_amount  \\\n11382  a679ed55-963a-4de6-8be0-4364eb601b6f  Charged Off                 2052   \n\n             term  credit_score  years_in_current_job home_ownership  \\\n11382  Short Term         703.0                  10.0           Rent   \n\n       annual_income             purpose monthly_debt  \\\n11382        95105.0  Debt Consolidation      1910.02   \n\n       years_of_credit_history  months_since_last_delinquent  \\\n11382                     22.4                          37.0   \n\n       number_of_open_accounts  number_of_credit_problems  \\\n11382                        9                          0   \n\n       current_credit_balance maximum_open_credit  bankruptcies  tax_liens  \n11382                       0             #VALUE!           0.0        0.0  "
          },
          "metadata": {}
        }
      ]
    },
    {
      "metadata": {
        "trusted": true
      },
      "cell_type": "code",
      "source": "test = test[test['maximum_open_credit'] != '#VALUE!']\ntest['maximum_open_credit']= pd.to_numeric(test['maximum_open_credit'])\ntest.shape",
      "execution_count": 16,
      "outputs": [
        {
          "output_type": "execute_result",
          "execution_count": 16,
          "data": {
            "text/plain": "(26672, 19)"
          },
          "metadata": {}
        }
      ]
    },
    {
      "metadata": {
        "trusted": true
      },
      "cell_type": "code",
      "source": "#Monthly debt has Currency symbol due to which its datatype is string, remove it and convert it to numeric.\ntest['monthly_debt']=test['monthly_debt'].str.strip('$')\ntest['monthly_debt']=pd.to_numeric(test['monthly_debt'])\ntest['monthly_debt'].describe()",
      "execution_count": 17,
      "outputs": [
        {
          "output_type": "execute_result",
          "execution_count": 17,
          "data": {
            "text/plain": "count    26672.000000\nmean       961.798365\nstd        626.526777\nmin          0.000000\n25%        532.305000\n50%        846.995000\n75%       1250.632500\nmax       9060.850000\nName: monthly_debt, dtype: float64"
          },
          "metadata": {}
        }
      ]
    },
    {
      "metadata": {},
      "cell_type": "markdown",
      "source": "#### handling missing value and outliers"
    },
    {
      "metadata": {
        "trusted": true
      },
      "cell_type": "code",
      "source": "test.describe()",
      "execution_count": 18,
      "outputs": [
        {
          "output_type": "execute_result",
          "execution_count": 18,
          "data": {
            "text/html": "<div>\n<style scoped>\n    .dataframe tbody tr th:only-of-type {\n        vertical-align: middle;\n    }\n\n    .dataframe tbody tr th {\n        vertical-align: top;\n    }\n\n    .dataframe thead th {\n        text-align: right;\n    }\n</style>\n<table border=\"1\" class=\"dataframe\">\n  <thead>\n    <tr style=\"text-align: right;\">\n      <th></th>\n      <th>current_loan_amount</th>\n      <th>credit_score</th>\n      <th>years_in_current_job</th>\n      <th>annual_income</th>\n      <th>monthly_debt</th>\n      <th>years_of_credit_history</th>\n      <th>months_since_last_delinquent</th>\n      <th>number_of_open_accounts</th>\n      <th>number_of_credit_problems</th>\n      <th>current_credit_balance</th>\n      <th>maximum_open_credit</th>\n      <th>bankruptcies</th>\n      <th>tax_liens</th>\n    </tr>\n  </thead>\n  <tbody>\n    <tr>\n      <th>count</th>\n      <td>2.667200e+04</td>\n      <td>21823.000000</td>\n      <td>25532.000000</td>\n      <td>2.182300e+04</td>\n      <td>26672.000000</td>\n      <td>26672.000000</td>\n      <td>12200.000000</td>\n      <td>26672.000000</td>\n      <td>26672.000000</td>\n      <td>26672.000000</td>\n      <td>2.667200e+04</td>\n      <td>26605.000000</td>\n      <td>26668.000000</td>\n    </tr>\n    <tr>\n      <th>mean</th>\n      <td>9.217122e+06</td>\n      <td>719.927233</td>\n      <td>5.845606</td>\n      <td>7.225075e+04</td>\n      <td>961.798365</td>\n      <td>18.313381</td>\n      <td>35.114098</td>\n      <td>11.122413</td>\n      <td>0.157881</td>\n      <td>15333.168379</td>\n      <td>3.638579e+04</td>\n      <td>0.110506</td>\n      <td>0.028461</td>\n    </tr>\n    <tr>\n      <th>std</th>\n      <td>2.890531e+07</td>\n      <td>27.632983</td>\n      <td>3.636220</td>\n      <td>4.936244e+04</td>\n      <td>626.526777</td>\n      <td>7.016029</td>\n      <td>22.183377</td>\n      <td>4.960658</td>\n      <td>0.477225</td>\n      <td>18136.121693</td>\n      <td>4.696288e+05</td>\n      <td>0.338209</td>\n      <td>0.276950</td>\n    </tr>\n    <tr>\n      <th>min</th>\n      <td>4.910000e+02</td>\n      <td>585.000000</td>\n      <td>0.000000</td>\n      <td>4.033000e+03</td>\n      <td>0.000000</td>\n      <td>4.000000</td>\n      <td>0.000000</td>\n      <td>1.000000</td>\n      <td>0.000000</td>\n      <td>0.000000</td>\n      <td>0.000000e+00</td>\n      <td>0.000000</td>\n      <td>0.000000</td>\n    </tr>\n    <tr>\n      <th>25%</th>\n      <td>8.086000e+03</td>\n      <td>708.000000</td>\n      <td>2.000000</td>\n      <td>4.451900e+04</td>\n      <td>532.305000</td>\n      <td>13.500000</td>\n      <td>16.000000</td>\n      <td>8.000000</td>\n      <td>0.000000</td>\n      <td>5991.000000</td>\n      <td>1.271800e+04</td>\n      <td>0.000000</td>\n      <td>0.000000</td>\n    </tr>\n    <tr>\n      <th>50%</th>\n      <td>1.330800e+04</td>\n      <td>728.000000</td>\n      <td>6.000000</td>\n      <td>6.144000e+04</td>\n      <td>846.995000</td>\n      <td>17.000000</td>\n      <td>32.000000</td>\n      <td>10.000000</td>\n      <td>0.000000</td>\n      <td>11092.000000</td>\n      <td>2.170750e+04</td>\n      <td>0.000000</td>\n      <td>0.000000</td>\n    </tr>\n    <tr>\n      <th>75%</th>\n      <td>2.158400e+04</td>\n      <td>740.000000</td>\n      <td>10.000000</td>\n      <td>8.646550e+04</td>\n      <td>1250.632500</td>\n      <td>21.800000</td>\n      <td>51.000000</td>\n      <td>14.000000</td>\n      <td>0.000000</td>\n      <td>19157.500000</td>\n      <td>3.611725e+04</td>\n      <td>0.000000</td>\n      <td>0.000000</td>\n    </tr>\n    <tr>\n      <th>max</th>\n      <td>1.000000e+08</td>\n      <td>751.000000</td>\n      <td>10.000000</td>\n      <td>1.478700e+06</td>\n      <td>9060.850000</td>\n      <td>70.500000</td>\n      <td>143.000000</td>\n      <td>56.000000</td>\n      <td>15.000000</td>\n      <td>683524.000000</td>\n      <td>5.930574e+07</td>\n      <td>5.000000</td>\n      <td>15.000000</td>\n    </tr>\n  </tbody>\n</table>\n</div>",
            "text/plain": "       current_loan_amount  credit_score  years_in_current_job  annual_income  \\\ncount         2.667200e+04  21823.000000          25532.000000   2.182300e+04   \nmean          9.217122e+06    719.927233              5.845606   7.225075e+04   \nstd           2.890531e+07     27.632983              3.636220   4.936244e+04   \nmin           4.910000e+02    585.000000              0.000000   4.033000e+03   \n25%           8.086000e+03    708.000000              2.000000   4.451900e+04   \n50%           1.330800e+04    728.000000              6.000000   6.144000e+04   \n75%           2.158400e+04    740.000000             10.000000   8.646550e+04   \nmax           1.000000e+08    751.000000             10.000000   1.478700e+06   \n\n       monthly_debt  years_of_credit_history  months_since_last_delinquent  \\\ncount  26672.000000             26672.000000                  12200.000000   \nmean     961.798365                18.313381                     35.114098   \nstd      626.526777                 7.016029                     22.183377   \nmin        0.000000                 4.000000                      0.000000   \n25%      532.305000                13.500000                     16.000000   \n50%      846.995000                17.000000                     32.000000   \n75%     1250.632500                21.800000                     51.000000   \nmax     9060.850000                70.500000                    143.000000   \n\n       number_of_open_accounts  number_of_credit_problems  \\\ncount             26672.000000               26672.000000   \nmean                 11.122413                   0.157881   \nstd                   4.960658                   0.477225   \nmin                   1.000000                   0.000000   \n25%                   8.000000                   0.000000   \n50%                  10.000000                   0.000000   \n75%                  14.000000                   0.000000   \nmax                  56.000000                  15.000000   \n\n       current_credit_balance  maximum_open_credit  bankruptcies     tax_liens  \ncount            26672.000000         2.667200e+04  26605.000000  26668.000000  \nmean             15333.168379         3.638579e+04      0.110506      0.028461  \nstd              18136.121693         4.696288e+05      0.338209      0.276950  \nmin                  0.000000         0.000000e+00      0.000000      0.000000  \n25%               5991.000000         1.271800e+04      0.000000      0.000000  \n50%              11092.000000         2.170750e+04      0.000000      0.000000  \n75%              19157.500000         3.611725e+04      0.000000      0.000000  \nmax             683524.000000         5.930574e+07      5.000000     15.000000  "
          },
          "metadata": {}
        }
      ]
    },
    {
      "metadata": {
        "trusted": true
      },
      "cell_type": "code",
      "source": "# current loan amount\nax=sns.boxplot(test[\"current_loan_amount\"],orient='h')",
      "execution_count": 19,
      "outputs": [
        {
          "output_type": "display_data",
          "data": {
            "image/png": "[encoded data removed]",
            "text/plain": "<Figure size 432x288 with 1 Axes>"
          },
          "metadata": {
            "needs_background": "light"
          }
        }
      ]
    },
    {
      "metadata": {
        "trusted": true
      },
      "cell_type": "code",
      "source": "test[test[\"current_loan_amount\"] == 99999999]",
      "execution_count": 20,
      "outputs": [
        {
          "output_type": "execute_result",
          "execution_count": 20,
          "data": {
            "text/html": "<div>\n<style scoped>\n    .dataframe tbody tr th:only-of-type {\n        vertical-align: middle;\n    }\n\n    .dataframe tbody tr th {\n        vertical-align: top;\n    }\n\n    .dataframe thead th {\n        text-align: right;\n    }\n</style>\n<table border=\"1\" class=\"dataframe\">\n  <thead>\n    <tr style=\"text-align: right;\">\n      <th></th>\n      <th>loan_id</th>\n      <th>customer_id</th>\n      <th>loan_status</th>\n      <th>current_loan_amount</th>\n      <th>term</th>\n      <th>credit_score</th>\n      <th>years_in_current_job</th>\n      <th>home_ownership</th>\n      <th>annual_income</th>\n      <th>purpose</th>\n      <th>monthly_debt</th>\n      <th>years_of_credit_history</th>\n      <th>months_since_last_delinquent</th>\n      <th>number_of_open_accounts</th>\n      <th>number_of_credit_problems</th>\n      <th>current_credit_balance</th>\n      <th>maximum_open_credit</th>\n      <th>bankruptcies</th>\n      <th>tax_liens</th>\n    </tr>\n  </thead>\n  <tbody>\n    <tr>\n      <th>0</th>\n      <td>0c49cbd6-dd97-4b99-9c05-c63a5d592fde</td>\n      <td>923ee454-6911-4f5a-9dfd-ba6b00b92718</td>\n      <td>Fully Paid</td>\n      <td>99999999</td>\n      <td>Short Term</td>\n      <td>728.0</td>\n      <td>1.0</td>\n      <td>Home Mortgage</td>\n      <td>76133.0</td>\n      <td>Debt Consolidation</td>\n      <td>1161.02</td>\n      <td>15.2</td>\n      <td>NaN</td>\n      <td>16</td>\n      <td>1</td>\n      <td>9880</td>\n      <td>14424</td>\n      <td>1.0</td>\n      <td>0.0</td>\n    </tr>\n    <tr>\n      <th>40</th>\n      <td>b2130dbe-06ca-4adc-a7a9-4ad9de80e486</td>\n      <td>b377cc5f-b418-40ed-9d6c-e2a4cd2a8d3c</td>\n      <td>Fully Paid</td>\n      <td>99999999</td>\n      <td>Short Term</td>\n      <td>751.0</td>\n      <td>9.0</td>\n      <td>Rent</td>\n      <td>72120.0</td>\n      <td>Other</td>\n      <td>1646.74</td>\n      <td>17.2</td>\n      <td>NaN</td>\n      <td>20</td>\n      <td>0</td>\n      <td>206</td>\n      <td>4469</td>\n      <td>0.0</td>\n      <td>0.0</td>\n    </tr>\n    <tr>\n      <th>54</th>\n      <td>d1522b51-9aa7-48e2-b116-9cf696b1541a</td>\n      <td>af3110b4-579e-45d2-9674-4ce2a4792a05</td>\n      <td>Fully Paid</td>\n      <td>99999999</td>\n      <td>Short Term</td>\n      <td>749.0</td>\n      <td>0.0</td>\n      <td>Rent</td>\n      <td>49285.0</td>\n      <td>Debt Consolidation</td>\n      <td>656.31</td>\n      <td>15.9</td>\n      <td>NaN</td>\n      <td>6</td>\n      <td>0</td>\n      <td>7694</td>\n      <td>10177</td>\n      <td>0.0</td>\n      <td>0.0</td>\n    </tr>\n    <tr>\n      <th>65</th>\n      <td>9210e0be-835d-439c-b21a-b2e753e76bbb</td>\n      <td>f0bb0e2f-dd0d-430f-8557-d58ccb7dceb2</td>\n      <td>Fully Paid</td>\n      <td>99999999</td>\n      <td>Short Term</td>\n      <td>738.0</td>\n      <td>7.0</td>\n      <td>Home Mortgage</td>\n      <td>35060.0</td>\n      <td>Home Improvements</td>\n      <td>279.60</td>\n      <td>13.6</td>\n      <td>22.0</td>\n      <td>7</td>\n      <td>0</td>\n      <td>1109</td>\n      <td>20535</td>\n      <td>0.0</td>\n      <td>0.0</td>\n    </tr>\n    <tr>\n      <th>67</th>\n      <td>07c05b12-3779-4684-8570-0af110f63a72</td>\n      <td>1b6c04b9-e74c-418d-b888-eadb3a5fc39d</td>\n      <td>Fully Paid</td>\n      <td>99999999</td>\n      <td>Long Term</td>\n      <td>727.0</td>\n      <td>7.0</td>\n      <td>Home Mortgage</td>\n      <td>39276.0</td>\n      <td>Debt Consolidation</td>\n      <td>798.61</td>\n      <td>10.7</td>\n      <td>NaN</td>\n      <td>9</td>\n      <td>0</td>\n      <td>11742</td>\n      <td>15997</td>\n      <td>0.0</td>\n      <td>0.0</td>\n    </tr>\n    <tr>\n      <th>...</th>\n      <td>...</td>\n      <td>...</td>\n      <td>...</td>\n      <td>...</td>\n      <td>...</td>\n      <td>...</td>\n      <td>...</td>\n      <td>...</td>\n      <td>...</td>\n      <td>...</td>\n      <td>...</td>\n      <td>...</td>\n      <td>...</td>\n      <td>...</td>\n      <td>...</td>\n      <td>...</td>\n      <td>...</td>\n      <td>...</td>\n      <td>...</td>\n    </tr>\n    <tr>\n      <th>26620</th>\n      <td>446b7993-767c-4196-a49c-68b9dac2e520</td>\n      <td>6d141fd5-de35-45dd-92a8-b4fd2b898a22</td>\n      <td>Fully Paid</td>\n      <td>99999999</td>\n      <td>Short Term</td>\n      <td>730.0</td>\n      <td>10.0</td>\n      <td>Home Mortgage</td>\n      <td>142187.0</td>\n      <td>Debt Consolidation</td>\n      <td>2109.10</td>\n      <td>14.5</td>\n      <td>39.0</td>\n      <td>17</td>\n      <td>0</td>\n      <td>9774</td>\n      <td>10299</td>\n      <td>0.0</td>\n      <td>0.0</td>\n    </tr>\n    <tr>\n      <th>26648</th>\n      <td>02199021-da32-4ff1-97f9-9b12d7b8df12</td>\n      <td>1a269000-8ee2-4b50-8c13-bc4e72f8c480</td>\n      <td>Fully Paid</td>\n      <td>99999999</td>\n      <td>Short Term</td>\n      <td>747.0</td>\n      <td>9.0</td>\n      <td>Home Mortgage</td>\n      <td>71722.0</td>\n      <td>Debt Consolidation</td>\n      <td>1637.65</td>\n      <td>17.6</td>\n      <td>NaN</td>\n      <td>13</td>\n      <td>0</td>\n      <td>21437</td>\n      <td>46500</td>\n      <td>0.0</td>\n      <td>0.0</td>\n    </tr>\n    <tr>\n      <th>26650</th>\n      <td>a2099b18-5cd5-4d35-8cea-65d4a3f29a05</td>\n      <td>2b3f990d-a46d-40d7-abb0-791b158c6ddc</td>\n      <td>Fully Paid</td>\n      <td>99999999</td>\n      <td>Short Term</td>\n      <td>747.0</td>\n      <td>8.0</td>\n      <td>Home Mortgage</td>\n      <td>46349.0</td>\n      <td>Debt Consolidation</td>\n      <td>513.70</td>\n      <td>46.9</td>\n      <td>56.0</td>\n      <td>13</td>\n      <td>0</td>\n      <td>10945</td>\n      <td>42586</td>\n      <td>0.0</td>\n      <td>0.0</td>\n    </tr>\n    <tr>\n      <th>26670</th>\n      <td>90aff423-10d6-479d-9ffc-8d3a74603938</td>\n      <td>5ea1d9d9-3d1e-4a45-b935-8f1cf34dd92d</td>\n      <td>Fully Paid</td>\n      <td>99999999</td>\n      <td>Short Term</td>\n      <td>750.0</td>\n      <td>5.0</td>\n      <td>Own Home</td>\n      <td>33492.0</td>\n      <td>Buy a Car</td>\n      <td>381.81</td>\n      <td>14.4</td>\n      <td>NaN</td>\n      <td>7</td>\n      <td>0</td>\n      <td>995</td>\n      <td>18422</td>\n      <td>0.0</td>\n      <td>0.0</td>\n    </tr>\n    <tr>\n      <th>26672</th>\n      <td>d505ad75-d185-487f-a36a-27af86860855</td>\n      <td>e49b53f0-01ec-408d-a75b-8362323079dd</td>\n      <td>Fully Paid</td>\n      <td>99999999</td>\n      <td>Short Term</td>\n      <td>745.0</td>\n      <td>10.0</td>\n      <td>Home Mortgage</td>\n      <td>53687.0</td>\n      <td>Debt Consolidation</td>\n      <td>791.88</td>\n      <td>29.1</td>\n      <td>68.0</td>\n      <td>14</td>\n      <td>1</td>\n      <td>8565</td>\n      <td>25416</td>\n      <td>1.0</td>\n      <td>0.0</td>\n    </tr>\n  </tbody>\n</table>\n<p>2455 rows × 19 columns</p>\n</div>",
            "text/plain": "                                    loan_id  \\\n0      0c49cbd6-dd97-4b99-9c05-c63a5d592fde   \n40     b2130dbe-06ca-4adc-a7a9-4ad9de80e486   \n54     d1522b51-9aa7-48e2-b116-9cf696b1541a   \n65     9210e0be-835d-439c-b21a-b2e753e76bbb   \n67     07c05b12-3779-4684-8570-0af110f63a72   \n...                                     ...   \n26620  446b7993-767c-4196-a49c-68b9dac2e520   \n26648  02199021-da32-4ff1-97f9-9b12d7b8df12   \n26650  a2099b18-5cd5-4d35-8cea-65d4a3f29a05   \n26670  90aff423-10d6-479d-9ffc-8d3a74603938   \n26672  d505ad75-d185-487f-a36a-27af86860855   \n\n                                customer_id loan_status  current_loan_amount  \\\n0      923ee454-6911-4f5a-9dfd-ba6b00b92718  Fully Paid             99999999   \n40     b377cc5f-b418-40ed-9d6c-e2a4cd2a8d3c  Fully Paid             99999999   \n54     af3110b4-579e-45d2-9674-4ce2a4792a05  Fully Paid             99999999   \n65     f0bb0e2f-dd0d-430f-8557-d58ccb7dceb2  Fully Paid             99999999   \n67     1b6c04b9-e74c-418d-b888-eadb3a5fc39d  Fully Paid             99999999   \n...                                     ...         ...                  ...   \n26620  6d141fd5-de35-45dd-92a8-b4fd2b898a22  Fully Paid             99999999   \n26648  1a269000-8ee2-4b50-8c13-bc4e72f8c480  Fully Paid             99999999   \n26650  2b3f990d-a46d-40d7-abb0-791b158c6ddc  Fully Paid             99999999   \n26670  5ea1d9d9-3d1e-4a45-b935-8f1cf34dd92d  Fully Paid             99999999   \n26672  e49b53f0-01ec-408d-a75b-8362323079dd  Fully Paid             99999999   \n\n             term  credit_score  years_in_current_job home_ownership  \\\n0      Short Term         728.0                   1.0  Home Mortgage   \n40     Short Term         751.0                   9.0           Rent   \n54     Short Term         749.0                   0.0           Rent   \n65     Short Term         738.0                   7.0  Home Mortgage   \n67      Long Term         727.0                   7.0  Home Mortgage   \n...           ...           ...                   ...            ...   \n26620  Short Term         730.0                  10.0  Home Mortgage   \n26648  Short Term         747.0                   9.0  Home Mortgage   \n26650  Short Term         747.0                   8.0  Home Mortgage   \n26670  Short Term         750.0                   5.0       Own Home   \n26672  Short Term         745.0                  10.0  Home Mortgage   \n\n       annual_income             purpose  monthly_debt  \\\n0            76133.0  Debt Consolidation       1161.02   \n40           72120.0               Other       1646.74   \n54           49285.0  Debt Consolidation        656.31   \n65           35060.0   Home Improvements        279.60   \n67           39276.0  Debt Consolidation        798.61   \n...              ...                 ...           ...   \n26620       142187.0  Debt Consolidation       2109.10   \n26648        71722.0  Debt Consolidation       1637.65   \n26650        46349.0  Debt Consolidation        513.70   \n26670        33492.0           Buy a Car        381.81   \n26672        53687.0  Debt Consolidation        791.88   \n\n       years_of_credit_history  months_since_last_delinquent  \\\n0                         15.2                           NaN   \n40                        17.2                           NaN   \n54                        15.9                           NaN   \n65                        13.6                          22.0   \n67                        10.7                           NaN   \n...                        ...                           ...   \n26620                     14.5                          39.0   \n26648                     17.6                           NaN   \n26650                     46.9                          56.0   \n26670                     14.4                           NaN   \n26672                     29.1                          68.0   \n\n       number_of_open_accounts  number_of_credit_problems  \\\n0                           16                          1   \n40                          20                          0   \n54                           6                          0   \n65                           7                          0   \n67                           9                          0   \n...                        ...                        ...   \n26620                       17                          0   \n26648                       13                          0   \n26650                       13                          0   \n26670                        7                          0   \n26672                       14                          1   \n\n       current_credit_balance  maximum_open_credit  bankruptcies  tax_liens  \n0                        9880                14424           1.0        0.0  \n40                        206                 4469           0.0        0.0  \n54                       7694                10177           0.0        0.0  \n65                       1109                20535           0.0        0.0  \n67                      11742                15997           0.0        0.0  \n...                       ...                  ...           ...        ...  \n26620                    9774                10299           0.0        0.0  \n26648                   21437                46500           0.0        0.0  \n26650                   10945                42586           0.0        0.0  \n26670                     995                18422           0.0        0.0  \n26672                    8565                25416           1.0        0.0  \n\n[2455 rows x 19 columns]"
          },
          "metadata": {}
        }
      ]
    },
    {
      "metadata": {
        "trusted": true
      },
      "cell_type": "code",
      "source": "#since it is a placeholder which can be replaced by nans\ntest[\"current_loan_amount\"]=[np.nan if int(x)==99999999 else x for x in test[\"current_loan_amount\"]]",
      "execution_count": 21,
      "outputs": []
    },
    {
      "metadata": {
        "trusted": true
      },
      "cell_type": "code",
      "source": "ax = sns.boxplot(test[\"current_loan_amount\"])",
      "execution_count": 22,
      "outputs": [
        {
          "output_type": "display_data",
          "data": {
            "image/png": "[encoded data removed]",
            "text/plain": "<Figure size 432x288 with 1 Axes>"
          },
          "metadata": {
            "needs_background": "light"
          }
        }
      ]
    },
    {
      "metadata": {
        "trusted": true
      },
      "cell_type": "code",
      "source": "sns.boxplot(test[\"annual_income\"])",
      "execution_count": 23,
      "outputs": [
        {
          "output_type": "execute_result",
          "execution_count": 23,
          "data": {
            "text/plain": "<matplotlib.axes._subplots.AxesSubplot at 0x7f32a0cdcda0>"
          },
          "metadata": {}
        },
        {
          "output_type": "display_data",
          "data": {
            "image/png": "[encoded data removed]",
            "text/plain": "<Figure size 432x288 with 1 Axes>"
          },
          "metadata": {
            "needs_background": "light"
          }
        }
      ]
    },
    {
      "metadata": {
        "trusted": true
      },
      "cell_type": "code",
      "source": "test[test['annual_income']>1100000.000]",
      "execution_count": 24,
      "outputs": [
        {
          "output_type": "execute_result",
          "execution_count": 24,
          "data": {
            "text/html": "<div>\n<style scoped>\n    .dataframe tbody tr th:only-of-type {\n        vertical-align: middle;\n    }\n\n    .dataframe tbody tr th {\n        vertical-align: top;\n    }\n\n    .dataframe thead th {\n        text-align: right;\n    }\n</style>\n<table border=\"1\" class=\"dataframe\">\n  <thead>\n    <tr style=\"text-align: right;\">\n      <th></th>\n      <th>loan_id</th>\n      <th>customer_id</th>\n      <th>loan_status</th>\n      <th>current_loan_amount</th>\n      <th>term</th>\n      <th>credit_score</th>\n      <th>years_in_current_job</th>\n      <th>home_ownership</th>\n      <th>annual_income</th>\n      <th>purpose</th>\n      <th>monthly_debt</th>\n      <th>years_of_credit_history</th>\n      <th>months_since_last_delinquent</th>\n      <th>number_of_open_accounts</th>\n      <th>number_of_credit_problems</th>\n      <th>current_credit_balance</th>\n      <th>maximum_open_credit</th>\n      <th>bankruptcies</th>\n      <th>tax_liens</th>\n    </tr>\n  </thead>\n  <tbody>\n    <tr>\n      <th>9470</th>\n      <td>4618d7d2-6eb0-4c05-9956-a421992bdaae</td>\n      <td>bbf74537-4cd3-4ffb-b75a-7b3d3c0009e2</td>\n      <td>Fully Paid</td>\n      <td>34503.0</td>\n      <td>Short Term</td>\n      <td>729.0</td>\n      <td>10.0</td>\n      <td>Home Mortgage</td>\n      <td>1478700.0</td>\n      <td>other</td>\n      <td>5298.68</td>\n      <td>18.4</td>\n      <td>20.0</td>\n      <td>15</td>\n      <td>4</td>\n      <td>83918</td>\n      <td>88242</td>\n      <td>0.0</td>\n      <td>4.0</td>\n    </tr>\n    <tr>\n      <th>21777</th>\n      <td>85a6f5ea-41ec-4c8b-9539-bbb75d335ae1</td>\n      <td>5596983d-4f23-4020-859a-376bf2205b28</td>\n      <td>Charged Off</td>\n      <td>34237.0</td>\n      <td>Short Term</td>\n      <td>745.0</td>\n      <td>5.0</td>\n      <td>Own Home</td>\n      <td>1271660.0</td>\n      <td>Debt Consolidation</td>\n      <td>815.99</td>\n      <td>28.1</td>\n      <td>NaN</td>\n      <td>22</td>\n      <td>0</td>\n      <td>9665</td>\n      <td>55226</td>\n      <td>0.0</td>\n      <td>0.0</td>\n    </tr>\n    <tr>\n      <th>22759</th>\n      <td>12bb0391-54ab-4ab0-ad54-c8b104c41f16</td>\n      <td>3dbb7631-bffa-4347-bbbd-e6c4c247837a</td>\n      <td>Fully Paid</td>\n      <td>24615.0</td>\n      <td>Long Term</td>\n      <td>698.0</td>\n      <td>10.0</td>\n      <td>Rent</td>\n      <td>1181520.0</td>\n      <td>Debt Consolidation</td>\n      <td>403.69</td>\n      <td>18.0</td>\n      <td>NaN</td>\n      <td>4</td>\n      <td>0</td>\n      <td>10996</td>\n      <td>15754</td>\n      <td>0.0</td>\n      <td>0.0</td>\n    </tr>\n  </tbody>\n</table>\n</div>",
            "text/plain": "                                    loan_id  \\\n9470   4618d7d2-6eb0-4c05-9956-a421992bdaae   \n21777  85a6f5ea-41ec-4c8b-9539-bbb75d335ae1   \n22759  12bb0391-54ab-4ab0-ad54-c8b104c41f16   \n\n                                customer_id  loan_status  current_loan_amount  \\\n9470   bbf74537-4cd3-4ffb-b75a-7b3d3c0009e2   Fully Paid              34503.0   \n21777  5596983d-4f23-4020-859a-376bf2205b28  Charged Off              34237.0   \n22759  3dbb7631-bffa-4347-bbbd-e6c4c247837a   Fully Paid              24615.0   \n\n             term  credit_score  years_in_current_job home_ownership  \\\n9470   Short Term         729.0                  10.0  Home Mortgage   \n21777  Short Term         745.0                   5.0       Own Home   \n22759   Long Term         698.0                  10.0           Rent   \n\n       annual_income             purpose  monthly_debt  \\\n9470       1478700.0               other       5298.68   \n21777      1271660.0  Debt Consolidation        815.99   \n22759      1181520.0  Debt Consolidation        403.69   \n\n       years_of_credit_history  months_since_last_delinquent  \\\n9470                      18.4                          20.0   \n21777                     28.1                           NaN   \n22759                     18.0                           NaN   \n\n       number_of_open_accounts  number_of_credit_problems  \\\n9470                        15                          4   \n21777                       22                          0   \n22759                        4                          0   \n\n       current_credit_balance  maximum_open_credit  bankruptcies  tax_liens  \n9470                    83918                88242           0.0        4.0  \n21777                    9665                55226           0.0        0.0  \n22759                   10996                15754           0.0        0.0  "
          },
          "metadata": {}
        }
      ]
    },
    {
      "metadata": {
        "trusted": true
      },
      "cell_type": "code",
      "source": "test = test.drop([9470, 21777,22759])",
      "execution_count": 25,
      "outputs": []
    },
    {
      "metadata": {
        "trusted": true
      },
      "cell_type": "code",
      "source": "#still there are lot of outliers \nsns.boxplot(test[\"annual_income\"],orient='h')",
      "execution_count": 26,
      "outputs": [
        {
          "output_type": "execute_result",
          "execution_count": 26,
          "data": {
            "text/plain": "<matplotlib.axes._subplots.AxesSubplot at 0x7f32a0570160>"
          },
          "metadata": {}
        },
        {
          "output_type": "display_data",
          "data": {
            "image/png": "[encoded data removed]",
            "text/plain": "<Figure size 432x288 with 1 Axes>"
          },
          "metadata": {
            "needs_background": "light"
          }
        }
      ]
    },
    {
      "metadata": {
        "trusted": true
      },
      "cell_type": "code",
      "source": "#it is normally distributed with right tail.. we can say that there can be some people with greater income per annum\nsns.distplot(test['annual_income'].dropna(), hist=True,color=\"darkblue\",\n             hist_kws={'edgecolor':'black'},\n             kde_kws={'linewidth': 2})\nax.set(xlabel='Annual Income') \nplt.title('Annual Income frequency chart'); \nplt.show()",
      "execution_count": 27,
      "outputs": [
        {
          "output_type": "stream",
          "text": "/home/nbuser/anaconda3_501/lib/python3.6/site-packages/scipy/stats/stats.py:1713: FutureWarning: Using a non-tuple sequence for multidimensional indexing is deprecated; use `arr[tuple(seq)]` instead of `arr[seq]`. In the future this will be interpreted as an array index, `arr[np.array(seq)]`, which will result either in an error or a different result.\n  return np.add.reduce(sorted[indexer] * weights, axis=axis) / sumval\n",
          "name": "stderr"
        },
        {
          "output_type": "display_data",
          "data": {
            "image/png": "[encoded data removed]",
            "text/plain": "<Figure size 432x288 with 1 Axes>"
          },
          "metadata": {
            "needs_background": "light"
          }
        }
      ]
    },
    {
      "metadata": {
        "trusted": true
      },
      "cell_type": "code",
      "source": "#years in credit history\nsns.boxplot(test[\"years_of_credit_history\"],orient='h')",
      "execution_count": 28,
      "outputs": [
        {
          "output_type": "execute_result",
          "execution_count": 28,
          "data": {
            "text/plain": "<matplotlib.axes._subplots.AxesSubplot at 0x7f32a044b9e8>"
          },
          "metadata": {}
        },
        {
          "output_type": "display_data",
          "data": {
            "image/png": "[encoded data removed]",
            "text/plain": "<Figure size 432x288 with 1 Axes>"
          },
          "metadata": {
            "needs_background": "light"
          }
        }
      ]
    },
    {
      "metadata": {
        "trusted": true
      },
      "cell_type": "code",
      "source": "test[test[\"years_of_credit_history\"]> 57]",
      "execution_count": 29,
      "outputs": [
        {
          "output_type": "execute_result",
          "execution_count": 29,
          "data": {
            "text/html": "<div>\n<style scoped>\n    .dataframe tbody tr th:only-of-type {\n        vertical-align: middle;\n    }\n\n    .dataframe tbody tr th {\n        vertical-align: top;\n    }\n\n    .dataframe thead th {\n        text-align: right;\n    }\n</style>\n<table border=\"1\" class=\"dataframe\">\n  <thead>\n    <tr style=\"text-align: right;\">\n      <th></th>\n      <th>loan_id</th>\n      <th>customer_id</th>\n      <th>loan_status</th>\n      <th>current_loan_amount</th>\n      <th>term</th>\n      <th>credit_score</th>\n      <th>years_in_current_job</th>\n      <th>home_ownership</th>\n      <th>annual_income</th>\n      <th>purpose</th>\n      <th>monthly_debt</th>\n      <th>years_of_credit_history</th>\n      <th>months_since_last_delinquent</th>\n      <th>number_of_open_accounts</th>\n      <th>number_of_credit_problems</th>\n      <th>current_credit_balance</th>\n      <th>maximum_open_credit</th>\n      <th>bankruptcies</th>\n      <th>tax_liens</th>\n    </tr>\n  </thead>\n  <tbody>\n    <tr>\n      <th>1498</th>\n      <td>8db8729d-afec-496d-a978-e088a827965a</td>\n      <td>1da4f9c0-f0cb-4162-8cc1-dbe21279fc40</td>\n      <td>Fully Paid</td>\n      <td>NaN</td>\n      <td>Short Term</td>\n      <td>726.0</td>\n      <td>NaN</td>\n      <td>Home Mortgage</td>\n      <td>21920.0</td>\n      <td>Buy a Car</td>\n      <td>57.72</td>\n      <td>57.7</td>\n      <td>NaN</td>\n      <td>3</td>\n      <td>1</td>\n      <td>1639</td>\n      <td>3416</td>\n      <td>1.0</td>\n      <td>0.0</td>\n    </tr>\n    <tr>\n      <th>4829</th>\n      <td>ad206b2c-c2d5-4bd8-a139-de6c87cfef3f</td>\n      <td>c95a500c-eea4-4d78-a09e-1e5218a33358</td>\n      <td>Charged Off</td>\n      <td>10951.0</td>\n      <td>Short Term</td>\n      <td>748.0</td>\n      <td>NaN</td>\n      <td>Own Home</td>\n      <td>51918.0</td>\n      <td>Debt Consolidation</td>\n      <td>908.57</td>\n      <td>60.5</td>\n      <td>8.0</td>\n      <td>6</td>\n      <td>0</td>\n      <td>24249</td>\n      <td>35661</td>\n      <td>0.0</td>\n      <td>0.0</td>\n    </tr>\n    <tr>\n      <th>5060</th>\n      <td>e4c99559-cd12-4b4d-abc9-fb1d04762537</td>\n      <td>57251652-1195-46e9-a71d-e68dacd51701</td>\n      <td>Fully Paid</td>\n      <td>11965.0</td>\n      <td>Short Term</td>\n      <td>721.0</td>\n      <td>9.0</td>\n      <td>Home Mortgage</td>\n      <td>47362.0</td>\n      <td>Debt Consolidation</td>\n      <td>365.09</td>\n      <td>65.0</td>\n      <td>33.0</td>\n      <td>12</td>\n      <td>0</td>\n      <td>12578</td>\n      <td>24712</td>\n      <td>0.0</td>\n      <td>0.0</td>\n    </tr>\n    <tr>\n      <th>7565</th>\n      <td>1030f003-15eb-47de-b98e-a782e17454df</td>\n      <td>b3aae317-742a-4b57-86a1-7f85f3833b20</td>\n      <td>Charged Off</td>\n      <td>24576.0</td>\n      <td>Short Term</td>\n      <td>662.0</td>\n      <td>NaN</td>\n      <td>Rent</td>\n      <td>102400.0</td>\n      <td>Other</td>\n      <td>1399.47</td>\n      <td>57.5</td>\n      <td>31.0</td>\n      <td>15</td>\n      <td>0</td>\n      <td>25592</td>\n      <td>45375</td>\n      <td>0.0</td>\n      <td>0.0</td>\n    </tr>\n    <tr>\n      <th>24164</th>\n      <td>7db95e04-1081-43e1-8dab-77d0202145f8</td>\n      <td>6bb86735-f834-42b3-bd98-360da7094185</td>\n      <td>Fully Paid</td>\n      <td>6109.0</td>\n      <td>Short Term</td>\n      <td>743.0</td>\n      <td>6.0</td>\n      <td>Home Mortgage</td>\n      <td>33964.0</td>\n      <td>Home Improvements</td>\n      <td>0.00</td>\n      <td>70.5</td>\n      <td>78.0</td>\n      <td>5</td>\n      <td>2</td>\n      <td>0</td>\n      <td>0</td>\n      <td>0.0</td>\n      <td>0.0</td>\n    </tr>\n  </tbody>\n</table>\n</div>",
            "text/plain": "                                    loan_id  \\\n1498   8db8729d-afec-496d-a978-e088a827965a   \n4829   ad206b2c-c2d5-4bd8-a139-de6c87cfef3f   \n5060   e4c99559-cd12-4b4d-abc9-fb1d04762537   \n7565   1030f003-15eb-47de-b98e-a782e17454df   \n24164  7db95e04-1081-43e1-8dab-77d0202145f8   \n\n                                customer_id  loan_status  current_loan_amount  \\\n1498   1da4f9c0-f0cb-4162-8cc1-dbe21279fc40   Fully Paid                  NaN   \n4829   c95a500c-eea4-4d78-a09e-1e5218a33358  Charged Off              10951.0   \n5060   57251652-1195-46e9-a71d-e68dacd51701   Fully Paid              11965.0   \n7565   b3aae317-742a-4b57-86a1-7f85f3833b20  Charged Off              24576.0   \n24164  6bb86735-f834-42b3-bd98-360da7094185   Fully Paid               6109.0   \n\n             term  credit_score  years_in_current_job home_ownership  \\\n1498   Short Term         726.0                   NaN  Home Mortgage   \n4829   Short Term         748.0                   NaN       Own Home   \n5060   Short Term         721.0                   9.0  Home Mortgage   \n7565   Short Term         662.0                   NaN           Rent   \n24164  Short Term         743.0                   6.0  Home Mortgage   \n\n       annual_income             purpose  monthly_debt  \\\n1498         21920.0           Buy a Car         57.72   \n4829         51918.0  Debt Consolidation        908.57   \n5060         47362.0  Debt Consolidation        365.09   \n7565        102400.0               Other       1399.47   \n24164        33964.0   Home Improvements          0.00   \n\n       years_of_credit_history  months_since_last_delinquent  \\\n1498                      57.7                           NaN   \n4829                      60.5                           8.0   \n5060                      65.0                          33.0   \n7565                      57.5                          31.0   \n24164                     70.5                          78.0   \n\n       number_of_open_accounts  number_of_credit_problems  \\\n1498                         3                          1   \n4829                         6                          0   \n5060                        12                          0   \n7565                        15                          0   \n24164                        5                          2   \n\n       current_credit_balance  maximum_open_credit  bankruptcies  tax_liens  \n1498                     1639                 3416           1.0        0.0  \n4829                    24249                35661           0.0        0.0  \n5060                    12578                24712           0.0        0.0  \n7565                    25592                45375           0.0        0.0  \n24164                       0                    0           0.0        0.0  "
          },
          "metadata": {}
        }
      ]
    },
    {
      "metadata": {
        "trusted": true
      },
      "cell_type": "code",
      "source": "test = test.drop([1498,4829,5060,7565,24164])",
      "execution_count": 30,
      "outputs": []
    },
    {
      "metadata": {
        "trusted": true
      },
      "cell_type": "code",
      "source": "ax = sns.boxplot(data=test['years_of_credit_history'], orient=\"h\")",
      "execution_count": 31,
      "outputs": [
        {
          "output_type": "display_data",
          "data": {
            "image/png": "[encoded data removed]",
            "text/plain": "<Figure size 432x288 with 1 Axes>"
          },
          "metadata": {
            "needs_background": "light"
          }
        }
      ]
    },
    {
      "metadata": {
        "trusted": true
      },
      "cell_type": "code",
      "source": "#num of open accounts\nax = sns.boxplot(data=test['number_of_open_accounts'], orient=\"h\")",
      "execution_count": 32,
      "outputs": [
        {
          "output_type": "display_data",
          "data": {
            "image/png": "[encoded data removed]",
            "text/plain": "<Figure size 432x288 with 1 Axes>"
          },
          "metadata": {
            "needs_background": "light"
          }
        }
      ]
    },
    {
      "metadata": {
        "trusted": true
      },
      "cell_type": "code",
      "source": "test[test['number_of_open_accounts']>50]",
      "execution_count": 33,
      "outputs": [
        {
          "output_type": "execute_result",
          "execution_count": 33,
          "data": {
            "text/html": "<div>\n<style scoped>\n    .dataframe tbody tr th:only-of-type {\n        vertical-align: middle;\n    }\n\n    .dataframe tbody tr th {\n        vertical-align: top;\n    }\n\n    .dataframe thead th {\n        text-align: right;\n    }\n</style>\n<table border=\"1\" class=\"dataframe\">\n  <thead>\n    <tr style=\"text-align: right;\">\n      <th></th>\n      <th>loan_id</th>\n      <th>customer_id</th>\n      <th>loan_status</th>\n      <th>current_loan_amount</th>\n      <th>term</th>\n      <th>credit_score</th>\n      <th>years_in_current_job</th>\n      <th>home_ownership</th>\n      <th>annual_income</th>\n      <th>purpose</th>\n      <th>monthly_debt</th>\n      <th>years_of_credit_history</th>\n      <th>months_since_last_delinquent</th>\n      <th>number_of_open_accounts</th>\n      <th>number_of_credit_problems</th>\n      <th>current_credit_balance</th>\n      <th>maximum_open_credit</th>\n      <th>bankruptcies</th>\n      <th>tax_liens</th>\n    </tr>\n  </thead>\n  <tbody>\n    <tr>\n      <th>4935</th>\n      <td>1653fa6e-eaef-41ce-831c-db5172fc966b</td>\n      <td>9646ae9b-104e-4b8d-913a-cecfbcd11de4</td>\n      <td>Fully Paid</td>\n      <td>18214.0</td>\n      <td>Short Term</td>\n      <td>721.0</td>\n      <td>8.0</td>\n      <td>Rent</td>\n      <td>67440.0</td>\n      <td>Debt Consolidation</td>\n      <td>1893.92</td>\n      <td>16.8</td>\n      <td>NaN</td>\n      <td>56</td>\n      <td>0</td>\n      <td>33929</td>\n      <td>55169</td>\n      <td>0.0</td>\n      <td>0.0</td>\n    </tr>\n    <tr>\n      <th>18759</th>\n      <td>8c32029e-0af5-4d1f-852f-2f0325bf6f42</td>\n      <td>50636032-0df6-4e6d-af9d-474f317c77e0</td>\n      <td>Charged Off</td>\n      <td>5837.0</td>\n      <td>Short Term</td>\n      <td>711.0</td>\n      <td>3.0</td>\n      <td>Own Home</td>\n      <td>36297.0</td>\n      <td>Debt Consolidation</td>\n      <td>356.92</td>\n      <td>8.9</td>\n      <td>NaN</td>\n      <td>52</td>\n      <td>0</td>\n      <td>1678</td>\n      <td>12342</td>\n      <td>0.0</td>\n      <td>0.0</td>\n    </tr>\n  </tbody>\n</table>\n</div>",
            "text/plain": "                                    loan_id  \\\n4935   1653fa6e-eaef-41ce-831c-db5172fc966b   \n18759  8c32029e-0af5-4d1f-852f-2f0325bf6f42   \n\n                                customer_id  loan_status  current_loan_amount  \\\n4935   9646ae9b-104e-4b8d-913a-cecfbcd11de4   Fully Paid              18214.0   \n18759  50636032-0df6-4e6d-af9d-474f317c77e0  Charged Off               5837.0   \n\n             term  credit_score  years_in_current_job home_ownership  \\\n4935   Short Term         721.0                   8.0           Rent   \n18759  Short Term         711.0                   3.0       Own Home   \n\n       annual_income             purpose  monthly_debt  \\\n4935         67440.0  Debt Consolidation       1893.92   \n18759        36297.0  Debt Consolidation        356.92   \n\n       years_of_credit_history  months_since_last_delinquent  \\\n4935                      16.8                           NaN   \n18759                      8.9                           NaN   \n\n       number_of_open_accounts  number_of_credit_problems  \\\n4935                        56                          0   \n18759                       52                          0   \n\n       current_credit_balance  maximum_open_credit  bankruptcies  tax_liens  \n4935                    33929                55169           0.0        0.0  \n18759                    1678                12342           0.0        0.0  "
          },
          "metadata": {}
        }
      ]
    },
    {
      "metadata": {
        "trusted": true
      },
      "cell_type": "code",
      "source": "test = test.drop([5935,18759])",
      "execution_count": 34,
      "outputs": []
    },
    {
      "metadata": {
        "trusted": true
      },
      "cell_type": "code",
      "source": "#values are not in continuous\nax = sns.boxplot(data=test['number_of_open_accounts'], orient=\"h\", palette=\"Set2\")",
      "execution_count": 35,
      "outputs": [
        {
          "output_type": "display_data",
          "data": {
            "image/png": "[encoded data removed]",
            "text/plain": "<Figure size 432x288 with 1 Axes>"
          },
          "metadata": {
            "needs_background": "light"
          }
        }
      ]
    },
    {
      "metadata": {
        "trusted": true
      },
      "cell_type": "code",
      "source": "#we will perform capping it means replacing outliers with max value\nIQR = test['number_of_open_accounts'].quantile(0.75) - test['number_of_open_accounts'].quantile(0.25)\nupper_limit = test['number_of_open_accounts'].quantile(0.75) + (IQR * 1.5)\nprint(\"Upper Limit:\", upper_limit)",
      "execution_count": 36,
      "outputs": [
        {
          "output_type": "stream",
          "text": "Upper Limit: 23.0\n",
          "name": "stdout"
        }
      ]
    },
    {
      "metadata": {
        "trusted": true
      },
      "cell_type": "code",
      "source": "test['number_of_open_accounts'] = [23.0 if ( x>23.0 and x!=np.nan) else x for x in test['number_of_open_accounts']]\nax = sns.boxplot(data=test['number_of_open_accounts'], orient=\"h\")",
      "execution_count": 37,
      "outputs": [
        {
          "output_type": "display_data",
          "data": {
            "image/png": "[encoded data removed]",
            "text/plain": "<Figure size 432x288 with 1 Axes>"
          },
          "metadata": {
            "needs_background": "light"
          }
        }
      ]
    },
    {
      "metadata": {
        "trusted": true
      },
      "cell_type": "code",
      "source": "#will check for Nan values\ntest.isnull().sum().sort_values(ascending=False)",
      "execution_count": 38,
      "outputs": [
        {
          "output_type": "execute_result",
          "execution_count": 38,
          "data": {
            "text/plain": "months_since_last_delinquent    14468\ncredit_score                     4849\nannual_income                    4849\ncurrent_loan_amount              2454\nyears_in_current_job             1137\nbankruptcies                       67\ntax_liens                           4\nhome_ownership                      0\ncustomer_id                         0\nloan_status                         0\nterm                                0\npurpose                             0\nmonthly_debt                        0\nyears_of_credit_history             0\nnumber_of_open_accounts             0\nnumber_of_credit_problems           0\ncurrent_credit_balance              0\nmaximum_open_credit                 0\nloan_id                             0\ndtype: int64"
          },
          "metadata": {}
        }
      ]
    },
    {
      "metadata": {
        "trusted": true
      },
      "cell_type": "code",
      "source": "# Since percentage value of Missing values in Bankruptcies and Tax Liens are very low we can delete the rows\ntest = test.dropna(subset=['bankruptcies', 'tax_liens'])\nprint(test.shape)\ntest.isnull().sum().sort_values(ascending=False)",
      "execution_count": 39,
      "outputs": [
        {
          "output_type": "stream",
          "text": "(26595, 19)\n",
          "name": "stdout"
        },
        {
          "output_type": "execute_result",
          "execution_count": 39,
          "data": {
            "text/plain": "months_since_last_delinquent    14467\nannual_income                    4833\ncredit_score                     4833\ncurrent_loan_amount              2447\nyears_in_current_job             1137\ntax_liens                           0\ncustomer_id                         0\nloan_status                         0\nterm                                0\nhome_ownership                      0\npurpose                             0\nbankruptcies                        0\nmonthly_debt                        0\nyears_of_credit_history             0\nnumber_of_open_accounts             0\nnumber_of_credit_problems           0\ncurrent_credit_balance              0\nmaximum_open_credit                 0\nloan_id                             0\ndtype: int64"
          },
          "metadata": {}
        }
      ]
    },
    {
      "metadata": {
        "trusted": true
      },
      "cell_type": "code",
      "source": "#it describes the number of months since the credit is not paid, so NA's actually are the genuine customers so replacing it with 0\ntest[\"months_since_last_delinquent\"].fillna(0, inplace = True)\nprint(test.shape)\ntest.isnull().sum().sort_values(ascending=False)",
      "execution_count": 40,
      "outputs": [
        {
          "output_type": "stream",
          "text": "(26595, 19)\n",
          "name": "stdout"
        },
        {
          "output_type": "execute_result",
          "execution_count": 40,
          "data": {
            "text/plain": "annual_income                   4833\ncredit_score                    4833\ncurrent_loan_amount             2447\nyears_in_current_job            1137\ntax_liens                          0\ncustomer_id                        0\nloan_status                        0\nterm                               0\nhome_ownership                     0\npurpose                            0\nbankruptcies                       0\nmonthly_debt                       0\nyears_of_credit_history            0\nmonths_since_last_delinquent       0\nnumber_of_open_accounts            0\nnumber_of_credit_problems          0\ncurrent_credit_balance             0\nmaximum_open_credit                0\nloan_id                            0\ndtype: int64"
          },
          "metadata": {}
        }
      ]
    },
    {
      "metadata": {
        "trusted": true
      },
      "cell_type": "code",
      "source": "test.reset_index()",
      "execution_count": 41,
      "outputs": [
        {
          "output_type": "execute_result",
          "execution_count": 41,
          "data": {
            "text/html": "<div>\n<style scoped>\n    .dataframe tbody tr th:only-of-type {\n        vertical-align: middle;\n    }\n\n    .dataframe tbody tr th {\n        vertical-align: top;\n    }\n\n    .dataframe thead th {\n        text-align: right;\n    }\n</style>\n<table border=\"1\" class=\"dataframe\">\n  <thead>\n    <tr style=\"text-align: right;\">\n      <th></th>\n      <th>index</th>\n      <th>loan_id</th>\n      <th>customer_id</th>\n      <th>loan_status</th>\n      <th>current_loan_amount</th>\n      <th>term</th>\n      <th>credit_score</th>\n      <th>years_in_current_job</th>\n      <th>home_ownership</th>\n      <th>annual_income</th>\n      <th>purpose</th>\n      <th>monthly_debt</th>\n      <th>years_of_credit_history</th>\n      <th>months_since_last_delinquent</th>\n      <th>number_of_open_accounts</th>\n      <th>number_of_credit_problems</th>\n      <th>current_credit_balance</th>\n      <th>maximum_open_credit</th>\n      <th>bankruptcies</th>\n      <th>tax_liens</th>\n    </tr>\n  </thead>\n  <tbody>\n    <tr>\n      <th>0</th>\n      <td>0</td>\n      <td>0c49cbd6-dd97-4b99-9c05-c63a5d592fde</td>\n      <td>923ee454-6911-4f5a-9dfd-ba6b00b92718</td>\n      <td>Fully Paid</td>\n      <td>NaN</td>\n      <td>Short Term</td>\n      <td>728.0</td>\n      <td>1.0</td>\n      <td>Home Mortgage</td>\n      <td>76133.0</td>\n      <td>Debt Consolidation</td>\n      <td>1161.02</td>\n      <td>15.2</td>\n      <td>0.0</td>\n      <td>16.0</td>\n      <td>1</td>\n      <td>9880</td>\n      <td>14424</td>\n      <td>1.0</td>\n      <td>0.0</td>\n    </tr>\n    <tr>\n      <th>1</th>\n      <td>1</td>\n      <td>8be00956-6b7f-4b74-8398-87c8035605df</td>\n      <td>da041fa4-e423-4eb3-9d81-9ee1fd52f750</td>\n      <td>Fully Paid</td>\n      <td>34202.0</td>\n      <td>Short Term</td>\n      <td>724.0</td>\n      <td>10.0</td>\n      <td>Home Mortgage</td>\n      <td>107492.0</td>\n      <td>Debt Consolidation</td>\n      <td>2902.28</td>\n      <td>17.2</td>\n      <td>71.0</td>\n      <td>17.0</td>\n      <td>0</td>\n      <td>26461</td>\n      <td>42135</td>\n      <td>0.0</td>\n      <td>0.0</td>\n    </tr>\n    <tr>\n      <th>2</th>\n      <td>2</td>\n      <td>57359000-1074-44fa-833b-4bea7a0a9d26</td>\n      <td>f9041857-4e0a-449c-af67-b2fbbd11950b</td>\n      <td>Fully Paid</td>\n      <td>17991.0</td>\n      <td>Short Term</td>\n      <td>743.0</td>\n      <td>10.0</td>\n      <td>Own Home</td>\n      <td>69965.0</td>\n      <td>Debt Consolidation</td>\n      <td>1055.30</td>\n      <td>36.0</td>\n      <td>12.0</td>\n      <td>23.0</td>\n      <td>0</td>\n      <td>11713</td>\n      <td>61005</td>\n      <td>0.0</td>\n      <td>0.0</td>\n    </tr>\n    <tr>\n      <th>3</th>\n      <td>3</td>\n      <td>90a7d1b4-3997-414b-9abb-1de8cec79b18</td>\n      <td>304143c6-d619-48f3-9807-61371b47a230</td>\n      <td>Charged Off</td>\n      <td>31722.0</td>\n      <td>Long Term</td>\n      <td>686.0</td>\n      <td>2.0</td>\n      <td>Rent</td>\n      <td>72365.0</td>\n      <td>major_purchase</td>\n      <td>844.26</td>\n      <td>11.2</td>\n      <td>41.0</td>\n      <td>5.0</td>\n      <td>0</td>\n      <td>16151</td>\n      <td>19227</td>\n      <td>0.0</td>\n      <td>0.0</td>\n    </tr>\n    <tr>\n      <th>4</th>\n      <td>4</td>\n      <td>c2f24b30-bec3-4944-a417-c8d7b377810e</td>\n      <td>de2c8c55-468c-4b4b-b73f-7907eeb8e096</td>\n      <td>Fully Paid</td>\n      <td>13650.0</td>\n      <td>Long Term</td>\n      <td>719.0</td>\n      <td>7.0</td>\n      <td>Home Mortgage</td>\n      <td>78956.0</td>\n      <td>Debt Consolidation</td>\n      <td>520.45</td>\n      <td>20.4</td>\n      <td>35.0</td>\n      <td>9.0</td>\n      <td>0</td>\n      <td>17029</td>\n      <td>23784</td>\n      <td>0.0</td>\n      <td>0.0</td>\n    </tr>\n    <tr>\n      <th>...</th>\n      <td>...</td>\n      <td>...</td>\n      <td>...</td>\n      <td>...</td>\n      <td>...</td>\n      <td>...</td>\n      <td>...</td>\n      <td>...</td>\n      <td>...</td>\n      <td>...</td>\n      <td>...</td>\n      <td>...</td>\n      <td>...</td>\n      <td>...</td>\n      <td>...</td>\n      <td>...</td>\n      <td>...</td>\n      <td>...</td>\n      <td>...</td>\n      <td>...</td>\n    </tr>\n    <tr>\n      <th>26590</th>\n      <td>26668</td>\n      <td>2ad6c84d-0343-4cd4-b54b-999a461141a0</td>\n      <td>2f44fa9f-60b5-46a1-812e-861c414cf703</td>\n      <td>Charged Off</td>\n      <td>12377.0</td>\n      <td>Long Term</td>\n      <td>681.0</td>\n      <td>10.0</td>\n      <td>Home Mortgage</td>\n      <td>48920.0</td>\n      <td>Debt Consolidation</td>\n      <td>1178.16</td>\n      <td>13.2</td>\n      <td>0.0</td>\n      <td>10.0</td>\n      <td>1</td>\n      <td>7710</td>\n      <td>12141</td>\n      <td>1.0</td>\n      <td>0.0</td>\n    </tr>\n    <tr>\n      <th>26591</th>\n      <td>26669</td>\n      <td>9090b72d-0950-47dc-b43a-995b8cd061c1</td>\n      <td>9f9f4efd-df30-4a10-94e3-48f3b6b01bf8</td>\n      <td>Charged Off</td>\n      <td>20302.0</td>\n      <td>Long Term</td>\n      <td>727.0</td>\n      <td>4.0</td>\n      <td>Home Mortgage</td>\n      <td>86284.0</td>\n      <td>Debt Consolidation</td>\n      <td>963.50</td>\n      <td>18.4</td>\n      <td>0.0</td>\n      <td>9.0</td>\n      <td>0</td>\n      <td>20137</td>\n      <td>27813</td>\n      <td>0.0</td>\n      <td>0.0</td>\n    </tr>\n    <tr>\n      <th>26592</th>\n      <td>26670</td>\n      <td>90aff423-10d6-479d-9ffc-8d3a74603938</td>\n      <td>5ea1d9d9-3d1e-4a45-b935-8f1cf34dd92d</td>\n      <td>Fully Paid</td>\n      <td>NaN</td>\n      <td>Short Term</td>\n      <td>750.0</td>\n      <td>5.0</td>\n      <td>Own Home</td>\n      <td>33492.0</td>\n      <td>Buy a Car</td>\n      <td>381.81</td>\n      <td>14.4</td>\n      <td>0.0</td>\n      <td>7.0</td>\n      <td>0</td>\n      <td>995</td>\n      <td>18422</td>\n      <td>0.0</td>\n      <td>0.0</td>\n    </tr>\n    <tr>\n      <th>26593</th>\n      <td>26671</td>\n      <td>6569c063-73a2-4a4f-a7a9-049971061746</td>\n      <td>bb10a205-a873-441c-8985-5ec2114ef198</td>\n      <td>Fully Paid</td>\n      <td>10213.0</td>\n      <td>Short Term</td>\n      <td>NaN</td>\n      <td>5.0</td>\n      <td>Rent</td>\n      <td>NaN</td>\n      <td>Debt Consolidation</td>\n      <td>531.21</td>\n      <td>12.8</td>\n      <td>60.0</td>\n      <td>7.0</td>\n      <td>0</td>\n      <td>6004</td>\n      <td>18362</td>\n      <td>0.0</td>\n      <td>0.0</td>\n    </tr>\n    <tr>\n      <th>26594</th>\n      <td>26672</td>\n      <td>d505ad75-d185-487f-a36a-27af86860855</td>\n      <td>e49b53f0-01ec-408d-a75b-8362323079dd</td>\n      <td>Fully Paid</td>\n      <td>NaN</td>\n      <td>Short Term</td>\n      <td>745.0</td>\n      <td>10.0</td>\n      <td>Home Mortgage</td>\n      <td>53687.0</td>\n      <td>Debt Consolidation</td>\n      <td>791.88</td>\n      <td>29.1</td>\n      <td>68.0</td>\n      <td>14.0</td>\n      <td>1</td>\n      <td>8565</td>\n      <td>25416</td>\n      <td>1.0</td>\n      <td>0.0</td>\n    </tr>\n  </tbody>\n</table>\n<p>26595 rows × 20 columns</p>\n</div>",
            "text/plain": "       index                               loan_id  \\\n0          0  0c49cbd6-dd97-4b99-9c05-c63a5d592fde   \n1          1  8be00956-6b7f-4b74-8398-87c8035605df   \n2          2  57359000-1074-44fa-833b-4bea7a0a9d26   \n3          3  90a7d1b4-3997-414b-9abb-1de8cec79b18   \n4          4  c2f24b30-bec3-4944-a417-c8d7b377810e   \n...      ...                                   ...   \n26590  26668  2ad6c84d-0343-4cd4-b54b-999a461141a0   \n26591  26669  9090b72d-0950-47dc-b43a-995b8cd061c1   \n26592  26670  90aff423-10d6-479d-9ffc-8d3a74603938   \n26593  26671  6569c063-73a2-4a4f-a7a9-049971061746   \n26594  26672  d505ad75-d185-487f-a36a-27af86860855   \n\n                                customer_id  loan_status  current_loan_amount  \\\n0      923ee454-6911-4f5a-9dfd-ba6b00b92718   Fully Paid                  NaN   \n1      da041fa4-e423-4eb3-9d81-9ee1fd52f750   Fully Paid              34202.0   \n2      f9041857-4e0a-449c-af67-b2fbbd11950b   Fully Paid              17991.0   \n3      304143c6-d619-48f3-9807-61371b47a230  Charged Off              31722.0   \n4      de2c8c55-468c-4b4b-b73f-7907eeb8e096   Fully Paid              13650.0   \n...                                     ...          ...                  ...   \n26590  2f44fa9f-60b5-46a1-812e-861c414cf703  Charged Off              12377.0   \n26591  9f9f4efd-df30-4a10-94e3-48f3b6b01bf8  Charged Off              20302.0   \n26592  5ea1d9d9-3d1e-4a45-b935-8f1cf34dd92d   Fully Paid                  NaN   \n26593  bb10a205-a873-441c-8985-5ec2114ef198   Fully Paid              10213.0   \n26594  e49b53f0-01ec-408d-a75b-8362323079dd   Fully Paid                  NaN   \n\n             term  credit_score  years_in_current_job home_ownership  \\\n0      Short Term         728.0                   1.0  Home Mortgage   \n1      Short Term         724.0                  10.0  Home Mortgage   \n2      Short Term         743.0                  10.0       Own Home   \n3       Long Term         686.0                   2.0           Rent   \n4       Long Term         719.0                   7.0  Home Mortgage   \n...           ...           ...                   ...            ...   \n26590   Long Term         681.0                  10.0  Home Mortgage   \n26591   Long Term         727.0                   4.0  Home Mortgage   \n26592  Short Term         750.0                   5.0       Own Home   \n26593  Short Term           NaN                   5.0           Rent   \n26594  Short Term         745.0                  10.0  Home Mortgage   \n\n       annual_income             purpose  monthly_debt  \\\n0            76133.0  Debt Consolidation       1161.02   \n1           107492.0  Debt Consolidation       2902.28   \n2            69965.0  Debt Consolidation       1055.30   \n3            72365.0      major_purchase        844.26   \n4            78956.0  Debt Consolidation        520.45   \n...              ...                 ...           ...   \n26590        48920.0  Debt Consolidation       1178.16   \n26591        86284.0  Debt Consolidation        963.50   \n26592        33492.0           Buy a Car        381.81   \n26593            NaN  Debt Consolidation        531.21   \n26594        53687.0  Debt Consolidation        791.88   \n\n       years_of_credit_history  months_since_last_delinquent  \\\n0                         15.2                           0.0   \n1                         17.2                          71.0   \n2                         36.0                          12.0   \n3                         11.2                          41.0   \n4                         20.4                          35.0   \n...                        ...                           ...   \n26590                     13.2                           0.0   \n26591                     18.4                           0.0   \n26592                     14.4                           0.0   \n26593                     12.8                          60.0   \n26594                     29.1                          68.0   \n\n       number_of_open_accounts  number_of_credit_problems  \\\n0                         16.0                          1   \n1                         17.0                          0   \n2                         23.0                          0   \n3                          5.0                          0   \n4                          9.0                          0   \n...                        ...                        ...   \n26590                     10.0                          1   \n26591                      9.0                          0   \n26592                      7.0                          0   \n26593                      7.0                          0   \n26594                     14.0                          1   \n\n       current_credit_balance  maximum_open_credit  bankruptcies  tax_liens  \n0                        9880                14424           1.0        0.0  \n1                       26461                42135           0.0        0.0  \n2                       11713                61005           0.0        0.0  \n3                       16151                19227           0.0        0.0  \n4                       17029                23784           0.0        0.0  \n...                       ...                  ...           ...        ...  \n26590                    7710                12141           1.0        0.0  \n26591                   20137                27813           0.0        0.0  \n26592                     995                18422           0.0        0.0  \n26593                    6004                18362           0.0        0.0  \n26594                    8565                25416           1.0        0.0  \n\n[26595 rows x 20 columns]"
          },
          "metadata": {}
        }
      ]
    },
    {
      "metadata": {
        "trusted": true
      },
      "cell_type": "code",
      "source": "from sklearn.experimental import enable_iterative_imputer\nfrom sklearn.impute import IterativeImputer",
      "execution_count": 42,
      "outputs": []
    },
    {
      "metadata": {
        "trusted": true
      },
      "cell_type": "code",
      "source": "test.reset_index(drop=True, inplace=True)\nmy_imputer = IterativeImputer()\n#For this we need only numerical variables so filtering this\ntest_numerical = test._get_numeric_data()\ntest_numerical_columns = test_numerical.columns \nprint(test_numerical.shape)\ntest_numerical.isnull().sum()",
      "execution_count": 43,
      "outputs": [
        {
          "output_type": "stream",
          "text": "(26595, 13)\n",
          "name": "stdout"
        },
        {
          "output_type": "execute_result",
          "execution_count": 43,
          "data": {
            "text/plain": "current_loan_amount             2447\ncredit_score                    4833\nyears_in_current_job            1137\nannual_income                   4833\nmonthly_debt                       0\nyears_of_credit_history            0\nmonths_since_last_delinquent       0\nnumber_of_open_accounts            0\nnumber_of_credit_problems          0\ncurrent_credit_balance             0\nmaximum_open_credit                0\nbankruptcies                       0\ntax_liens                          0\ndtype: int64"
          },
          "metadata": {}
        }
      ]
    },
    {
      "metadata": {
        "trusted": true
      },
      "cell_type": "code",
      "source": "test_imputed = my_imputer.fit_transform(test_numerical)\n#Imputer will give the array as an object so need to convert it to Dataframe with columns\ntest_imputed = pd.DataFrame(test_imputed, columns=test_numerical_columns)\ntest_imputed.isnull().sum()",
      "execution_count": 44,
      "outputs": [
        {
          "output_type": "execute_result",
          "execution_count": 44,
          "data": {
            "text/plain": "current_loan_amount             0\ncredit_score                    0\nyears_in_current_job            0\nannual_income                   0\nmonthly_debt                    0\nyears_of_credit_history         0\nmonths_since_last_delinquent    0\nnumber_of_open_accounts         0\nnumber_of_credit_problems       0\ncurrent_credit_balance          0\nmaximum_open_credit             0\nbankruptcies                    0\ntax_liens                       0\ndtype: int64"
          },
          "metadata": {}
        }
      ]
    },
    {
      "metadata": {
        "trusted": true
      },
      "cell_type": "code",
      "source": "test_imputed.describe()",
      "execution_count": 45,
      "outputs": [
        {
          "output_type": "execute_result",
          "execution_count": 45,
          "data": {
            "text/html": "<div>\n<style scoped>\n    .dataframe tbody tr th:only-of-type {\n        vertical-align: middle;\n    }\n\n    .dataframe tbody tr th {\n        vertical-align: top;\n    }\n\n    .dataframe thead th {\n        text-align: right;\n    }\n</style>\n<table border=\"1\" class=\"dataframe\">\n  <thead>\n    <tr style=\"text-align: right;\">\n      <th></th>\n      <th>current_loan_amount</th>\n      <th>credit_score</th>\n      <th>years_in_current_job</th>\n      <th>annual_income</th>\n      <th>monthly_debt</th>\n      <th>years_of_credit_history</th>\n      <th>months_since_last_delinquent</th>\n      <th>number_of_open_accounts</th>\n      <th>number_of_credit_problems</th>\n      <th>current_credit_balance</th>\n      <th>maximum_open_credit</th>\n      <th>bankruptcies</th>\n      <th>tax_liens</th>\n    </tr>\n  </thead>\n  <tbody>\n    <tr>\n      <th>count</th>\n      <td>26595.000000</td>\n      <td>26595.000000</td>\n      <td>26595.000000</td>\n      <td>2.659500e+04</td>\n      <td>26595.000000</td>\n      <td>26595.000000</td>\n      <td>26595.000000</td>\n      <td>26595.000000</td>\n      <td>26595.000000</td>\n      <td>26595.000000</td>\n      <td>2.659500e+04</td>\n      <td>26595.000000</td>\n      <td>26595.000000</td>\n    </tr>\n    <tr>\n      <th>mean</th>\n      <td>13874.109806</td>\n      <td>720.142409</td>\n      <td>5.866494</td>\n      <td>7.184837e+04</td>\n      <td>963.104067</td>\n      <td>18.298199</td>\n      <td>16.065238</td>\n      <td>11.031246</td>\n      <td>0.157924</td>\n      <td>15337.749126</td>\n      <td>3.592741e+04</td>\n      <td>0.110472</td>\n      <td>0.028389</td>\n    </tr>\n    <tr>\n      <th>std</th>\n      <td>8008.321935</td>\n      <td>26.118063</td>\n      <td>3.563170</td>\n      <td>4.479409e+04</td>\n      <td>625.870698</td>\n      <td>6.986993</td>\n      <td>23.043235</td>\n      <td>4.633775</td>\n      <td>0.476993</td>\n      <td>18134.362281</td>\n      <td>4.643726e+05</td>\n      <td>0.338180</td>\n      <td>0.276255</td>\n    </tr>\n    <tr>\n      <th>min</th>\n      <td>701.000000</td>\n      <td>585.000000</td>\n      <td>0.000000</td>\n      <td>4.033000e+03</td>\n      <td>0.000000</td>\n      <td>4.000000</td>\n      <td>0.000000</td>\n      <td>1.000000</td>\n      <td>0.000000</td>\n      <td>0.000000</td>\n      <td>0.000000e+00</td>\n      <td>0.000000</td>\n      <td>0.000000</td>\n    </tr>\n    <tr>\n      <th>25%</th>\n      <td>8018.000000</td>\n      <td>711.000000</td>\n      <td>3.000000</td>\n      <td>4.554044e+04</td>\n      <td>534.165000</td>\n      <td>13.500000</td>\n      <td>0.000000</td>\n      <td>8.000000</td>\n      <td>0.000000</td>\n      <td>5998.000000</td>\n      <td>1.272400e+04</td>\n      <td>0.000000</td>\n      <td>0.000000</td>\n    </tr>\n    <tr>\n      <th>50%</th>\n      <td>12029.000000</td>\n      <td>725.000000</td>\n      <td>6.000000</td>\n      <td>6.249500e+04</td>\n      <td>848.740000</td>\n      <td>17.000000</td>\n      <td>0.000000</td>\n      <td>10.000000</td>\n      <td>0.000000</td>\n      <td>11100.000000</td>\n      <td>2.171100e+04</td>\n      <td>0.000000</td>\n      <td>0.000000</td>\n    </tr>\n    <tr>\n      <th>75%</th>\n      <td>18444.000000</td>\n      <td>739.000000</td>\n      <td>10.000000</td>\n      <td>8.602450e+04</td>\n      <td>1252.250000</td>\n      <td>21.800000</td>\n      <td>29.000000</td>\n      <td>14.000000</td>\n      <td>0.000000</td>\n      <td>19159.500000</td>\n      <td>3.612250e+04</td>\n      <td>0.000000</td>\n      <td>0.000000</td>\n    </tr>\n    <tr>\n      <th>max</th>\n      <td>75982.224993</td>\n      <td>1603.253987</td>\n      <td>10.000000</td>\n      <td>1.001000e+06</td>\n      <td>9060.850000</td>\n      <td>54.200000</td>\n      <td>143.000000</td>\n      <td>23.000000</td>\n      <td>15.000000</td>\n      <td>683524.000000</td>\n      <td>5.930574e+07</td>\n      <td>5.000000</td>\n      <td>15.000000</td>\n    </tr>\n  </tbody>\n</table>\n</div>",
            "text/plain": "       current_loan_amount  credit_score  years_in_current_job  annual_income  \\\ncount         26595.000000  26595.000000          26595.000000   2.659500e+04   \nmean          13874.109806    720.142409              5.866494   7.184837e+04   \nstd            8008.321935     26.118063              3.563170   4.479409e+04   \nmin             701.000000    585.000000              0.000000   4.033000e+03   \n25%            8018.000000    711.000000              3.000000   4.554044e+04   \n50%           12029.000000    725.000000              6.000000   6.249500e+04   \n75%           18444.000000    739.000000             10.000000   8.602450e+04   \nmax           75982.224993   1603.253987             10.000000   1.001000e+06   \n\n       monthly_debt  years_of_credit_history  months_since_last_delinquent  \\\ncount  26595.000000             26595.000000                  26595.000000   \nmean     963.104067                18.298199                     16.065238   \nstd      625.870698                 6.986993                     23.043235   \nmin        0.000000                 4.000000                      0.000000   \n25%      534.165000                13.500000                      0.000000   \n50%      848.740000                17.000000                      0.000000   \n75%     1252.250000                21.800000                     29.000000   \nmax     9060.850000                54.200000                    143.000000   \n\n       number_of_open_accounts  number_of_credit_problems  \\\ncount             26595.000000               26595.000000   \nmean                 11.031246                   0.157924   \nstd                   4.633775                   0.476993   \nmin                   1.000000                   0.000000   \n25%                   8.000000                   0.000000   \n50%                  10.000000                   0.000000   \n75%                  14.000000                   0.000000   \nmax                  23.000000                  15.000000   \n\n       current_credit_balance  maximum_open_credit  bankruptcies     tax_liens  \ncount            26595.000000         2.659500e+04  26595.000000  26595.000000  \nmean             15337.749126         3.592741e+04      0.110472      0.028389  \nstd              18134.362281         4.643726e+05      0.338180      0.276255  \nmin                  0.000000         0.000000e+00      0.000000      0.000000  \n25%               5998.000000         1.272400e+04      0.000000      0.000000  \n50%              11100.000000         2.171100e+04      0.000000      0.000000  \n75%              19159.500000         3.612250e+04      0.000000      0.000000  \nmax             683524.000000         5.930574e+07      5.000000     15.000000  "
          },
          "metadata": {}
        }
      ]
    },
    {
      "metadata": {
        "trusted": true
      },
      "cell_type": "code",
      "source": "#Replacing the features in Train dataframe by above Imputed dataframe\ntest_imputed.shape",
      "execution_count": 46,
      "outputs": [
        {
          "output_type": "execute_result",
          "execution_count": 46,
          "data": {
            "text/plain": "(26595, 13)"
          },
          "metadata": {}
        }
      ]
    },
    {
      "metadata": {
        "trusted": true
      },
      "cell_type": "code",
      "source": "test.shape",
      "execution_count": 47,
      "outputs": [
        {
          "output_type": "execute_result",
          "execution_count": 47,
          "data": {
            "text/plain": "(26595, 19)"
          },
          "metadata": {}
        }
      ]
    },
    {
      "metadata": {
        "trusted": true
      },
      "cell_type": "code",
      "source": "test['years_in_current_job'] = test_imputed['years_in_current_job']\ntest['current_loan_amount'] = test_imputed['current_loan_amount']\ntest['credit_score'] = test_imputed['credit_score']\ntest['annual_income'] = test_imputed['annual_income']",
      "execution_count": 48,
      "outputs": []
    },
    {
      "metadata": {
        "trusted": true
      },
      "cell_type": "code",
      "source": "print(test.shape)\ntest.isnull().sum()",
      "execution_count": 49,
      "outputs": [
        {
          "output_type": "stream",
          "text": "(26595, 19)\n",
          "name": "stdout"
        },
        {
          "output_type": "execute_result",
          "execution_count": 49,
          "data": {
            "text/plain": "loan_id                         0\ncustomer_id                     0\nloan_status                     0\ncurrent_loan_amount             0\nterm                            0\ncredit_score                    0\nyears_in_current_job            0\nhome_ownership                  0\nannual_income                   0\npurpose                         0\nmonthly_debt                    0\nyears_of_credit_history         0\nmonths_since_last_delinquent    0\nnumber_of_open_accounts         0\nnumber_of_credit_problems       0\ncurrent_credit_balance          0\nmaximum_open_credit             0\nbankruptcies                    0\ntax_liens                       0\ndtype: int64"
          },
          "metadata": {}
        }
      ]
    },
    {
      "metadata": {
        "trusted": true
      },
      "cell_type": "code",
      "source": "#Converting Months since last delinquent into categories\ntest['months_since_last_delinquent'] = ['extreme_risk' if x>51 \n        else 'high_risk' if x>32 \n        else 'moderate_risk' if x>16 \n        else 'low_risk' if x>0 else 'no_risk' for x in test['months_since_last_delinquent']]",
      "execution_count": 50,
      "outputs": []
    },
    {
      "metadata": {
        "trusted": true
      },
      "cell_type": "code",
      "source": "test['months_since_last_delinquent'].unique()",
      "execution_count": 51,
      "outputs": [
        {
          "output_type": "execute_result",
          "execution_count": 51,
          "data": {
            "text/plain": "array(['no_risk', 'extreme_risk', 'low_risk', 'high_risk',\n       'moderate_risk'], dtype=object)"
          },
          "metadata": {}
        }
      ]
    },
    {
      "metadata": {
        "trusted": true
      },
      "cell_type": "code",
      "source": "#drop them as they are not required\ntest.drop(['loan_id', 'customer_id'], axis=1, inplace=True)",
      "execution_count": 52,
      "outputs": []
    },
    {
      "metadata": {
        "trusted": true
      },
      "cell_type": "code",
      "source": "test.shape",
      "execution_count": 53,
      "outputs": [
        {
          "output_type": "execute_result",
          "execution_count": 53,
          "data": {
            "text/plain": "(26595, 17)"
          },
          "metadata": {}
        }
      ]
    },
    {
      "metadata": {
        "trusted": true
      },
      "cell_type": "code",
      "source": "#Handling Categorical Variables\n# importing one hot encoder from sklearn \nfrom sklearn.preprocessing import LabelEncoder",
      "execution_count": 54,
      "outputs": []
    },
    {
      "metadata": {
        "trusted": true
      },
      "cell_type": "code",
      "source": "#Applying Label Encoding to Loan Status\nle = LabelEncoder()\ntest['loan_status'] = le.fit_transform(test.loan_status)\nprint(le.classes_)",
      "execution_count": 55,
      "outputs": [
        {
          "output_type": "stream",
          "text": "['Charged Off' 'Fully Paid']\n",
          "name": "stdout"
        }
      ]
    },
    {
      "metadata": {
        "trusted": true
      },
      "cell_type": "code",
      "source": "test.loan_status.unique()",
      "execution_count": 56,
      "outputs": [
        {
          "output_type": "execute_result",
          "execution_count": 56,
          "data": {
            "text/plain": "array([1, 0])"
          },
          "metadata": {}
        }
      ]
    },
    {
      "metadata": {
        "trusted": true
      },
      "cell_type": "code",
      "source": "test.term.unique()",
      "execution_count": 57,
      "outputs": [
        {
          "output_type": "execute_result",
          "execution_count": 57,
          "data": {
            "text/plain": "array(['Short Term', 'Long Term'], dtype=object)"
          },
          "metadata": {}
        }
      ]
    },
    {
      "metadata": {
        "trusted": true
      },
      "cell_type": "code",
      "source": "test.home_ownership.unique()",
      "execution_count": 58,
      "outputs": [
        {
          "output_type": "execute_result",
          "execution_count": 58,
          "data": {
            "text/plain": "array(['Home Mortgage', 'Own Home', 'Rent', 'HaveMortgage'], dtype=object)"
          },
          "metadata": {}
        }
      ]
    },
    {
      "metadata": {
        "trusted": true
      },
      "cell_type": "code",
      "source": "test['home_ownership'] = ['Mortgage' if 'Mortgage' in x else x for x in test['home_ownership']]",
      "execution_count": 59,
      "outputs": []
    },
    {
      "metadata": {
        "trusted": true
      },
      "cell_type": "code",
      "source": "test.home_ownership.unique()",
      "execution_count": 60,
      "outputs": [
        {
          "output_type": "execute_result",
          "execution_count": 60,
          "data": {
            "text/plain": "array(['Mortgage', 'Own Home', 'Rent'], dtype=object)"
          },
          "metadata": {}
        }
      ]
    },
    {
      "metadata": {
        "trusted": true
      },
      "cell_type": "code",
      "source": "test.purpose.unique()",
      "execution_count": 61,
      "outputs": [
        {
          "output_type": "execute_result",
          "execution_count": 61,
          "data": {
            "text/plain": "array(['Debt Consolidation', 'major_purchase', 'Home Improvements',\n       'other', 'Other', 'vacation', 'Buy a Car', 'Medical Bills',\n       'moving', 'wedding', 'Business Loan', 'Buy House', 'Take a Trip',\n       'Educational Expenses', 'small_business', 'renewable_energy'],\n      dtype=object)"
          },
          "metadata": {}
        }
      ]
    },
    {
      "metadata": {
        "trusted": true
      },
      "cell_type": "code",
      "source": "#ther can be N reasons\ntest.drop(['purpose'], axis=1, inplace=True)",
      "execution_count": 62,
      "outputs": []
    },
    {
      "metadata": {
        "trusted": true
      },
      "cell_type": "code",
      "source": "test.months_since_last_delinquent.unique()",
      "execution_count": 63,
      "outputs": [
        {
          "output_type": "execute_result",
          "execution_count": 63,
          "data": {
            "text/plain": "array(['no_risk', 'extreme_risk', 'low_risk', 'high_risk',\n       'moderate_risk'], dtype=object)"
          },
          "metadata": {}
        }
      ]
    },
    {
      "metadata": {
        "trusted": true
      },
      "cell_type": "code",
      "source": "cols_to_transform = ['term', 'home_ownership','months_since_last_delinquent' ]\ntest_with_dummies = pd.get_dummies(test, prefix=cols_to_transform )",
      "execution_count": 64,
      "outputs": []
    },
    {
      "metadata": {
        "trusted": true
      },
      "cell_type": "code",
      "source": "test_with_dummies.head()",
      "execution_count": 65,
      "outputs": [
        {
          "output_type": "execute_result",
          "execution_count": 65,
          "data": {
            "text/html": "<div>\n<style scoped>\n    .dataframe tbody tr th:only-of-type {\n        vertical-align: middle;\n    }\n\n    .dataframe tbody tr th {\n        vertical-align: top;\n    }\n\n    .dataframe thead th {\n        text-align: right;\n    }\n</style>\n<table border=\"1\" class=\"dataframe\">\n  <thead>\n    <tr style=\"text-align: right;\">\n      <th></th>\n      <th>loan_status</th>\n      <th>current_loan_amount</th>\n      <th>credit_score</th>\n      <th>years_in_current_job</th>\n      <th>annual_income</th>\n      <th>monthly_debt</th>\n      <th>years_of_credit_history</th>\n      <th>number_of_open_accounts</th>\n      <th>number_of_credit_problems</th>\n      <th>current_credit_balance</th>\n      <th>...</th>\n      <th>term_Long Term</th>\n      <th>term_Short Term</th>\n      <th>home_ownership_Mortgage</th>\n      <th>home_ownership_Own Home</th>\n      <th>home_ownership_Rent</th>\n      <th>months_since_last_delinquent_extreme_risk</th>\n      <th>months_since_last_delinquent_high_risk</th>\n      <th>months_since_last_delinquent_low_risk</th>\n      <th>months_since_last_delinquent_moderate_risk</th>\n      <th>months_since_last_delinquent_no_risk</th>\n    </tr>\n  </thead>\n  <tbody>\n    <tr>\n      <th>0</th>\n      <td>1</td>\n      <td>12226.817028</td>\n      <td>728.0</td>\n      <td>1.0</td>\n      <td>76133.0</td>\n      <td>1161.02</td>\n      <td>15.2</td>\n      <td>16.0</td>\n      <td>1</td>\n      <td>9880</td>\n      <td>...</td>\n      <td>0</td>\n      <td>1</td>\n      <td>1</td>\n      <td>0</td>\n      <td>0</td>\n      <td>0</td>\n      <td>0</td>\n      <td>0</td>\n      <td>0</td>\n      <td>1</td>\n    </tr>\n    <tr>\n      <th>1</th>\n      <td>1</td>\n      <td>34202.000000</td>\n      <td>724.0</td>\n      <td>10.0</td>\n      <td>107492.0</td>\n      <td>2902.28</td>\n      <td>17.2</td>\n      <td>17.0</td>\n      <td>0</td>\n      <td>26461</td>\n      <td>...</td>\n      <td>0</td>\n      <td>1</td>\n      <td>1</td>\n      <td>0</td>\n      <td>0</td>\n      <td>1</td>\n      <td>0</td>\n      <td>0</td>\n      <td>0</td>\n      <td>0</td>\n    </tr>\n    <tr>\n      <th>2</th>\n      <td>1</td>\n      <td>17991.000000</td>\n      <td>743.0</td>\n      <td>10.0</td>\n      <td>69965.0</td>\n      <td>1055.30</td>\n      <td>36.0</td>\n      <td>23.0</td>\n      <td>0</td>\n      <td>11713</td>\n      <td>...</td>\n      <td>0</td>\n      <td>1</td>\n      <td>0</td>\n      <td>1</td>\n      <td>0</td>\n      <td>0</td>\n      <td>0</td>\n      <td>1</td>\n      <td>0</td>\n      <td>0</td>\n    </tr>\n    <tr>\n      <th>3</th>\n      <td>0</td>\n      <td>31722.000000</td>\n      <td>686.0</td>\n      <td>2.0</td>\n      <td>72365.0</td>\n      <td>844.26</td>\n      <td>11.2</td>\n      <td>5.0</td>\n      <td>0</td>\n      <td>16151</td>\n      <td>...</td>\n      <td>1</td>\n      <td>0</td>\n      <td>0</td>\n      <td>0</td>\n      <td>1</td>\n      <td>0</td>\n      <td>1</td>\n      <td>0</td>\n      <td>0</td>\n      <td>0</td>\n    </tr>\n    <tr>\n      <th>4</th>\n      <td>1</td>\n      <td>13650.000000</td>\n      <td>719.0</td>\n      <td>7.0</td>\n      <td>78956.0</td>\n      <td>520.45</td>\n      <td>20.4</td>\n      <td>9.0</td>\n      <td>0</td>\n      <td>17029</td>\n      <td>...</td>\n      <td>1</td>\n      <td>0</td>\n      <td>1</td>\n      <td>0</td>\n      <td>0</td>\n      <td>0</td>\n      <td>1</td>\n      <td>0</td>\n      <td>0</td>\n      <td>0</td>\n    </tr>\n  </tbody>\n</table>\n<p>5 rows × 23 columns</p>\n</div>",
            "text/plain": "   loan_status  current_loan_amount  credit_score  years_in_current_job  \\\n0            1         12226.817028         728.0                   1.0   \n1            1         34202.000000         724.0                  10.0   \n2            1         17991.000000         743.0                  10.0   \n3            0         31722.000000         686.0                   2.0   \n4            1         13650.000000         719.0                   7.0   \n\n   annual_income  monthly_debt  years_of_credit_history  \\\n0        76133.0       1161.02                     15.2   \n1       107492.0       2902.28                     17.2   \n2        69965.0       1055.30                     36.0   \n3        72365.0        844.26                     11.2   \n4        78956.0        520.45                     20.4   \n\n   number_of_open_accounts  number_of_credit_problems  current_credit_balance  \\\n0                     16.0                          1                    9880   \n1                     17.0                          0                   26461   \n2                     23.0                          0                   11713   \n3                      5.0                          0                   16151   \n4                      9.0                          0                   17029   \n\n   ...  term_Long Term  term_Short Term  home_ownership_Mortgage  \\\n0  ...               0                1                        1   \n1  ...               0                1                        1   \n2  ...               0                1                        0   \n3  ...               1                0                        0   \n4  ...               1                0                        1   \n\n   home_ownership_Own Home  home_ownership_Rent  \\\n0                        0                    0   \n1                        0                    0   \n2                        1                    0   \n3                        0                    1   \n4                        0                    0   \n\n   months_since_last_delinquent_extreme_risk  \\\n0                                          0   \n1                                          1   \n2                                          0   \n3                                          0   \n4                                          0   \n\n   months_since_last_delinquent_high_risk  \\\n0                                       0   \n1                                       0   \n2                                       0   \n3                                       1   \n4                                       1   \n\n   months_since_last_delinquent_low_risk  \\\n0                                      0   \n1                                      0   \n2                                      1   \n3                                      0   \n4                                      0   \n\n   months_since_last_delinquent_moderate_risk  \\\n0                                           0   \n1                                           0   \n2                                           0   \n3                                           0   \n4                                           0   \n\n   months_since_last_delinquent_no_risk  \n0                                     1  \n1                                     0  \n2                                     0  \n3                                     0  \n4                                     0  \n\n[5 rows x 23 columns]"
          },
          "metadata": {}
        }
      ]
    },
    {
      "metadata": {
        "trusted": true
      },
      "cell_type": "code",
      "source": "total_len = len(test_with_dummies['loan_status'])\npercentage_labels = (test_with_dummies['loan_status'].value_counts()/total_len)*100\npercentage_labels",
      "execution_count": 66,
      "outputs": [
        {
          "output_type": "execute_result",
          "execution_count": 66,
          "data": {
            "text/plain": "1    71.697688\n0    28.302312\nName: loan_status, dtype: float64"
          },
          "metadata": {}
        }
      ]
    },
    {
      "metadata": {
        "trusted": true
      },
      "cell_type": "code",
      "source": "test_with_dummies.to_csv(\"test_with_dummies.csv\",index=False)",
      "execution_count": 67,
      "outputs": []
    },
    {
      "metadata": {
        "trusted": true
      },
      "cell_type": "code",
      "source": "test_with_dummies.shape",
      "execution_count": 68,
      "outputs": [
        {
          "output_type": "execute_result",
          "execution_count": 68,
          "data": {
            "text/plain": "(26595, 23)"
          },
          "metadata": {}
        }
      ]
    }
  ],
  "metadata": {
    "kernelspec": {
      "name": "python36",
      "display_name": "Python 3.6",
      "language": "python"
    },
    "language_info": {
      "mimetype": "text/x-python",
      "nbconvert_exporter": "python",
      "name": "python",
      "pygments_lexer": "ipython3",
      "version": "3.6.6",
      "file_extension": ".py",
      "codemirror_mode": {
        "version": 3,
        "name": "ipython"
      }
    }
  },
  "nbformat": 4,
  "nbformat_minor": 2
}